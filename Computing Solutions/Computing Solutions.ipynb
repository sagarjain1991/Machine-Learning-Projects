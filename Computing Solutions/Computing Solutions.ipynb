{
 "cells": [
  {
   "cell_type": "markdown",
   "metadata": {},
   "source": [
    "# Computing Solutions\n",
    "By Sagar Jain"
   ]
  },
  {
   "cell_type": "markdown",
   "metadata": {},
   "source": [
    "# Part 1 - Regression"
   ]
  },
  {
   "cell_type": "markdown",
   "metadata": {},
   "source": [
    "# Generating Data set using the rules defined in the assignment"
   ]
  },
  {
   "cell_type": "code",
   "execution_count": 1,
   "metadata": {},
   "outputs": [],
   "source": [
    "#Importing libraries\n",
    "import numpy as np\n",
    "import pandas as pd\n",
    "import matplotlib.pyplot as plt\n",
    "\n",
    "np.set_printoptions(suppress=True, precision=5)"
   ]
  },
  {
   "cell_type": "markdown",
   "metadata": {},
   "source": [
    "**Generate dataset based on the schema provided in the assignment, also have included bias as part of weights as X0 as suggested in the Linear Regression Notes**"
   ]
  },
  {
   "cell_type": "code",
   "execution_count": 2,
   "metadata": {},
   "outputs": [],
   "source": [
    "#Function to generate dataset\n",
    "def generate_dataset(m=100):\n",
    "    \n",
    "    data = []\n",
    "    \n",
    "    def generate_vector():\n",
    "        X = []\n",
    "        \n",
    "        #add the bias value in the weight vector itself, as used in the Linear Regression Notes.\n",
    "        X.append(1)\n",
    "        \n",
    "        #Assign standard normal values to X1 .. Xk-1. \n",
    "        for i in range(1, 11):\n",
    "            X.append(np.random.standard_normal())\n",
    "        \n",
    "        X11 = X[1] + X[2] + np.random.normal(0, 0.1)\n",
    "        X12 = X[3] + X[4] + np.random.normal(0, 0.1)\n",
    "        X13 = X[4] + X[5] + np.random.normal(0, 0.1)\n",
    "        X14 = (0.1 * X[7]) + np.random.normal(0, 0.1)\n",
    "        X15 = (2 * X[2]) - 10 + np.random.normal(0, 0.1)\n",
    "        \n",
    "        X.append(X11)\n",
    "        X.append(X12)\n",
    "        X.append(X13)\n",
    "        X.append(X14)\n",
    "        X.append(X15)\n",
    "        \n",
    "        #append values of X from 16 till 20\n",
    "        for i in range(16, 21):\n",
    "            X.append(np.random.standard_normal())\n",
    "            \n",
    "        \n",
    "        #compute Y \n",
    "        Y = 10 + sum([ pow(0.6, r+1) * X[r] for r in range(1, 11) ]) + np.random.normal(0, 0.1)\n",
    "        \n",
    "        #append Y to the data frame\n",
    "        X.append(Y)\n",
    "        \n",
    "        return X\n",
    "    \n",
    "    for x in range(1, m+1):\n",
    "        data.append(generate_vector())\n",
    "        \n",
    "    #Create header list\n",
    "    headers = ['X'+str(x) for x in range(0, 21)] + ['Y']\n",
    "    \n",
    "    dataframe = pd.DataFrame(data, columns=headers)\n",
    "    \n",
    "    return dataframe"
   ]
  },
  {
   "cell_type": "code",
   "execution_count": 3,
   "metadata": {
    "scrolled": false
   },
   "outputs": [
    {
     "data": {
      "text/html": [
       "<div>\n",
       "<style scoped>\n",
       "    .dataframe tbody tr th:only-of-type {\n",
       "        vertical-align: middle;\n",
       "    }\n",
       "\n",
       "    .dataframe tbody tr th {\n",
       "        vertical-align: top;\n",
       "    }\n",
       "\n",
       "    .dataframe thead th {\n",
       "        text-align: right;\n",
       "    }\n",
       "</style>\n",
       "<table border=\"1\" class=\"dataframe\">\n",
       "  <thead>\n",
       "    <tr style=\"text-align: right;\">\n",
       "      <th></th>\n",
       "      <th>X0</th>\n",
       "      <th>X1</th>\n",
       "      <th>X2</th>\n",
       "      <th>X3</th>\n",
       "      <th>X4</th>\n",
       "      <th>X5</th>\n",
       "      <th>X6</th>\n",
       "      <th>X7</th>\n",
       "      <th>X8</th>\n",
       "      <th>X9</th>\n",
       "      <th>...</th>\n",
       "      <th>X12</th>\n",
       "      <th>X13</th>\n",
       "      <th>X14</th>\n",
       "      <th>X15</th>\n",
       "      <th>X16</th>\n",
       "      <th>X17</th>\n",
       "      <th>X18</th>\n",
       "      <th>X19</th>\n",
       "      <th>X20</th>\n",
       "      <th>Y</th>\n",
       "    </tr>\n",
       "  </thead>\n",
       "  <tbody>\n",
       "    <tr>\n",
       "      <th>0</th>\n",
       "      <td>1</td>\n",
       "      <td>0.870219</td>\n",
       "      <td>1.015434</td>\n",
       "      <td>0.522406</td>\n",
       "      <td>-0.017129</td>\n",
       "      <td>-0.570068</td>\n",
       "      <td>-2.100410</td>\n",
       "      <td>0.186731</td>\n",
       "      <td>0.322923</td>\n",
       "      <td>0.868861</td>\n",
       "      <td>...</td>\n",
       "      <td>0.648900</td>\n",
       "      <td>-0.611443</td>\n",
       "      <td>-0.000716</td>\n",
       "      <td>-7.942622</td>\n",
       "      <td>0.129702</td>\n",
       "      <td>0.417974</td>\n",
       "      <td>1.103614</td>\n",
       "      <td>0.854345</td>\n",
       "      <td>0.648687</td>\n",
       "      <td>10.492354</td>\n",
       "    </tr>\n",
       "    <tr>\n",
       "      <th>1</th>\n",
       "      <td>1</td>\n",
       "      <td>0.276716</td>\n",
       "      <td>0.090066</td>\n",
       "      <td>-0.685802</td>\n",
       "      <td>0.178330</td>\n",
       "      <td>0.340845</td>\n",
       "      <td>2.618737</td>\n",
       "      <td>0.036680</td>\n",
       "      <td>0.057050</td>\n",
       "      <td>0.969929</td>\n",
       "      <td>...</td>\n",
       "      <td>-0.476118</td>\n",
       "      <td>0.480631</td>\n",
       "      <td>-0.042128</td>\n",
       "      <td>-10.041456</td>\n",
       "      <td>-0.347287</td>\n",
       "      <td>0.410373</td>\n",
       "      <td>-0.158444</td>\n",
       "      <td>-0.714374</td>\n",
       "      <td>-0.705297</td>\n",
       "      <td>10.194086</td>\n",
       "    </tr>\n",
       "    <tr>\n",
       "      <th>2</th>\n",
       "      <td>1</td>\n",
       "      <td>-0.729889</td>\n",
       "      <td>1.282975</td>\n",
       "      <td>2.620998</td>\n",
       "      <td>-0.627954</td>\n",
       "      <td>-0.000265</td>\n",
       "      <td>2.225518</td>\n",
       "      <td>1.763625</td>\n",
       "      <td>-1.308189</td>\n",
       "      <td>-0.211782</td>\n",
       "      <td>...</td>\n",
       "      <td>2.051912</td>\n",
       "      <td>-0.607995</td>\n",
       "      <td>0.070529</td>\n",
       "      <td>-7.528294</td>\n",
       "      <td>0.111380</td>\n",
       "      <td>-0.557843</td>\n",
       "      <td>-0.901044</td>\n",
       "      <td>1.248179</td>\n",
       "      <td>0.283902</td>\n",
       "      <td>10.318309</td>\n",
       "    </tr>\n",
       "    <tr>\n",
       "      <th>3</th>\n",
       "      <td>1</td>\n",
       "      <td>0.844001</td>\n",
       "      <td>-1.220131</td>\n",
       "      <td>-0.301316</td>\n",
       "      <td>-0.248937</td>\n",
       "      <td>0.672890</td>\n",
       "      <td>1.488546</td>\n",
       "      <td>1.825777</td>\n",
       "      <td>-0.268736</td>\n",
       "      <td>-1.509893</td>\n",
       "      <td>...</td>\n",
       "      <td>-0.466746</td>\n",
       "      <td>0.440232</td>\n",
       "      <td>0.239262</td>\n",
       "      <td>-12.583187</td>\n",
       "      <td>-0.269791</td>\n",
       "      <td>0.743027</td>\n",
       "      <td>0.357963</td>\n",
       "      <td>-0.351635</td>\n",
       "      <td>0.271095</td>\n",
       "      <td>10.145179</td>\n",
       "    </tr>\n",
       "    <tr>\n",
       "      <th>4</th>\n",
       "      <td>1</td>\n",
       "      <td>1.056892</td>\n",
       "      <td>-0.631029</td>\n",
       "      <td>1.404445</td>\n",
       "      <td>-0.766170</td>\n",
       "      <td>-0.114534</td>\n",
       "      <td>-0.981898</td>\n",
       "      <td>1.326630</td>\n",
       "      <td>-0.890633</td>\n",
       "      <td>-0.711419</td>\n",
       "      <td>...</td>\n",
       "      <td>0.649177</td>\n",
       "      <td>-0.814483</td>\n",
       "      <td>0.212413</td>\n",
       "      <td>-11.161925</td>\n",
       "      <td>0.121936</td>\n",
       "      <td>-0.156732</td>\n",
       "      <td>-1.351449</td>\n",
       "      <td>1.424516</td>\n",
       "      <td>0.431136</td>\n",
       "      <td>10.411994</td>\n",
       "    </tr>\n",
       "  </tbody>\n",
       "</table>\n",
       "<p>5 rows × 22 columns</p>\n",
       "</div>"
      ],
      "text/plain": [
       "   X0        X1        X2        X3        X4        X5        X6        X7  \\\n",
       "0   1  0.870219  1.015434  0.522406 -0.017129 -0.570068 -2.100410  0.186731   \n",
       "1   1  0.276716  0.090066 -0.685802  0.178330  0.340845  2.618737  0.036680   \n",
       "2   1 -0.729889  1.282975  2.620998 -0.627954 -0.000265  2.225518  1.763625   \n",
       "3   1  0.844001 -1.220131 -0.301316 -0.248937  0.672890  1.488546  1.825777   \n",
       "4   1  1.056892 -0.631029  1.404445 -0.766170 -0.114534 -0.981898  1.326630   \n",
       "\n",
       "         X8        X9    ...           X12       X13       X14        X15  \\\n",
       "0  0.322923  0.868861    ...      0.648900 -0.611443 -0.000716  -7.942622   \n",
       "1  0.057050  0.969929    ...     -0.476118  0.480631 -0.042128 -10.041456   \n",
       "2 -1.308189 -0.211782    ...      2.051912 -0.607995  0.070529  -7.528294   \n",
       "3 -0.268736 -1.509893    ...     -0.466746  0.440232  0.239262 -12.583187   \n",
       "4 -0.890633 -0.711419    ...      0.649177 -0.814483  0.212413 -11.161925   \n",
       "\n",
       "        X16       X17       X18       X19       X20          Y  \n",
       "0  0.129702  0.417974  1.103614  0.854345  0.648687  10.492354  \n",
       "1 -0.347287  0.410373 -0.158444 -0.714374 -0.705297  10.194086  \n",
       "2  0.111380 -0.557843 -0.901044  1.248179  0.283902  10.318309  \n",
       "3 -0.269791  0.743027  0.357963 -0.351635  0.271095  10.145179  \n",
       "4  0.121936 -0.156732 -1.351449  1.424516  0.431136  10.411994  \n",
       "\n",
       "[5 rows x 22 columns]"
      ]
     },
     "execution_count": 3,
     "metadata": {},
     "output_type": "execute_result"
    }
   ],
   "source": [
    "df = generate_dataset(m=100)\n",
    "df.head()"
   ]
  },
  {
   "cell_type": "markdown",
   "metadata": {},
   "source": [
    "**True Weights and biases**"
   ]
  },
  {
   "cell_type": "code",
   "execution_count": 74,
   "metadata": {},
   "outputs": [],
   "source": [
    "#True weight and biases\n",
    "true_weights = [10, 0.36, 0.21599999999999997, 0.1296, 0.07775999999999998, 0.04665599999999999, 0.027993599999999993, 0.016796159999999994, 0.010077695999999997,  0.006046617599999997,  0.0036279705599999985]"
   ]
  },
  {
   "cell_type": "markdown",
   "metadata": {},
   "source": [
    "**Method to Fit Naive & Ridge Linear Regression**"
   ]
  },
  {
   "cell_type": "code",
   "execution_count": 64,
   "metadata": {},
   "outputs": [],
   "source": [
    "#fit naive regression\n",
    "def fit_regression(dataframe, l=0, t='naive'):\n",
    "    \n",
    "    size = len(list(dataframe)) -1\n",
    "    \n",
    "    #split the X and Y from the dataframe\n",
    "    X = dataframe.iloc[:, 0:size]\n",
    "    Y = dataframe.iloc[:,-1]\n",
    "    \n",
    "    #compute sigma\n",
    "    if t == 'naive':\n",
    "        Sigma = np.dot(X.T, X) \n",
    "    elif t == 'ridge':\n",
    "        Sigma = np.add(np.dot(X.T, X), (l * np.identity(size)))\n",
    "    #print(Sigma)\n",
    "    \n",
    "    #compute sigma inverse\n",
    "    try:\n",
    "        Sigma_inverse = np.linalg.inv(Sigma)\n",
    "        #print(Sigma_inverse)\n",
    "    except LinAlgError:\n",
    "        print('Matrix cannot be inversed')\n",
    "        \n",
    "    #compute w hat \n",
    "    type = np.dot(Sigma_inverse, np.dot(X.T, Y))\n",
    "        \n",
    "    return type   "
   ]
  },
  {
   "cell_type": "code",
   "execution_count": 65,
   "metadata": {},
   "outputs": [
    {
     "name": "stdout",
     "output_type": "stream",
     "text": [
      "[10.02987  0.40638  0.25452  0.09357  0.01887  0.01999  0.03028  0.01452\n",
      "  0.01012  0.00211  0.00797 -0.04118  0.03721  0.02849  0.01093  0.00272\n",
      "  0.00476 -0.00373 -0.00056  0.00675  0.0048 ]\n"
     ]
    }
   ],
   "source": [
    "naive = fit_regression(df, t='naive')\n",
    "print(naive)"
   ]
  },
  {
   "cell_type": "markdown",
   "metadata": {},
   "source": [
    "**Method to Fit Lasso Linear Regression**"
   ]
  },
  {
   "cell_type": "code",
   "execution_count": 66,
   "metadata": {},
   "outputs": [],
   "source": [
    "def fit_lasso_regression(dataframe, l=0):\n",
    "    \n",
    "    #split the X and Y from the dataframe\n",
    "    size = len(list(dataframe)) -1\n",
    "    X = dataframe.iloc[:, 0:size]\n",
    "    Y = dataframe.iloc[:,-1]\n",
    "    \n",
    "    w = np.zeros(size)\n",
    "    for k in range(100):\n",
    "        for i in range(X.shape[1]):\n",
    "            if (i == 0):\n",
    "                w[i] = w[i] + ((np.sum(Y - np.dot(X, w))) / (X.shape[0]))\n",
    "            else:\n",
    "                temp_1 = (-np.matmul(X.iloc[:, i].T, (Y - (np.dot(X, w)))) + (l / 2))\n",
    "                val_1 = temp_1 / np.matmul(X.iloc[:, i].T, X.iloc[:, i])\n",
    "                val_2 = (-np.matmul(X.iloc[:, i].T, (Y - (np.dot(X, w)))) - l / 2) / np.matmul(X.iloc[:, i].T, X.iloc[:, i])\n",
    "                if (val_1 < w[i]):\n",
    "                    w[i] = w[i] - val_1\n",
    "                elif (w[i] < val_2):\n",
    "                    w[i] = w[i] - val_2\n",
    "                else:\n",
    "                    w[i] = 0\n",
    "    return w"
   ]
  },
  {
   "cell_type": "code",
   "execution_count": 67,
   "metadata": {},
   "outputs": [
    {
     "name": "stdout",
     "output_type": "stream",
     "text": [
      "[10.01719  0.16814  0.01954  0.07716  0.       0.00823  0.02519  0.0114\n",
      "  0.00486  0.       0.00117  0.19236  0.04794  0.0358   0.       0.00132\n",
      "  0.00165  0.       0.       0.00142  0.     ]\n"
     ]
    }
   ],
   "source": [
    "lasso = fit_lasso_regression(df, l=10)\n",
    "print(lasso)"
   ]
  },
  {
   "cell_type": "code",
   "execution_count": 54,
   "metadata": {},
   "outputs": [],
   "source": [
    "#compute error\n",
    "def compute_error(dataframe, type):\n",
    "    \n",
    "    err = 0\n",
    "    size = len(list(dataframe)) -1\n",
    "    rows = dataframe.shape[1]\n",
    "    type = np.array(type).reshape((size,1))\n",
    "    \n",
    "    for index in range(0,rows):\n",
    "        row = dataframe.iloc[index:index+1,:]\n",
    "        x = np.array(row.iloc[0][:-1].tolist()).reshape((size,1))\n",
    "        y = row.iloc[0]['Y']\n",
    "        \n",
    "        err = err + (y - np.dot(type.T, x))**2\n",
    "    \n",
    "    err = round(err[0][0]/rows, 5)\n",
    "\n",
    "    return err        "
   ]
  },
  {
   "cell_type": "code",
   "execution_count": 57,
   "metadata": {},
   "outputs": [
    {
     "data": {
      "text/plain": [
       "0.01103"
      ]
     },
     "execution_count": 57,
     "metadata": {},
     "output_type": "execute_result"
    }
   ],
   "source": [
    "compute_error(df, naive)"
   ]
  },
  {
   "cell_type": "markdown",
   "metadata": {},
   "source": [
    "# Question 1\n",
    "\n",
    "Generate a data set of size m = 1000. Solve the naive least squares regression model for the weights and bias that minimize the training error - how do they compare to the true weights and biases? What did your model conclude as the most significant and least significant features - was it able to prune anything? Simulate a large test set of data and estimate the 'true' error of your solved model."
   ]
  },
  {
   "cell_type": "markdown",
   "metadata": {},
   "source": [
    "**Generate Training Data**"
   ]
  },
  {
   "cell_type": "code",
   "execution_count": 19,
   "metadata": {},
   "outputs": [
    {
     "data": {
      "text/html": [
       "<div>\n",
       "<style scoped>\n",
       "    .dataframe tbody tr th:only-of-type {\n",
       "        vertical-align: middle;\n",
       "    }\n",
       "\n",
       "    .dataframe tbody tr th {\n",
       "        vertical-align: top;\n",
       "    }\n",
       "\n",
       "    .dataframe thead th {\n",
       "        text-align: right;\n",
       "    }\n",
       "</style>\n",
       "<table border=\"1\" class=\"dataframe\">\n",
       "  <thead>\n",
       "    <tr style=\"text-align: right;\">\n",
       "      <th></th>\n",
       "      <th>X0</th>\n",
       "      <th>X1</th>\n",
       "      <th>X2</th>\n",
       "      <th>X3</th>\n",
       "      <th>X4</th>\n",
       "      <th>X5</th>\n",
       "      <th>X6</th>\n",
       "      <th>X7</th>\n",
       "      <th>X8</th>\n",
       "      <th>X9</th>\n",
       "      <th>...</th>\n",
       "      <th>X12</th>\n",
       "      <th>X13</th>\n",
       "      <th>X14</th>\n",
       "      <th>X15</th>\n",
       "      <th>X16</th>\n",
       "      <th>X17</th>\n",
       "      <th>X18</th>\n",
       "      <th>X19</th>\n",
       "      <th>X20</th>\n",
       "      <th>Y</th>\n",
       "    </tr>\n",
       "  </thead>\n",
       "  <tbody>\n",
       "    <tr>\n",
       "      <th>0</th>\n",
       "      <td>1</td>\n",
       "      <td>-0.468244</td>\n",
       "      <td>-0.107078</td>\n",
       "      <td>-0.869273</td>\n",
       "      <td>-0.500579</td>\n",
       "      <td>-1.482541</td>\n",
       "      <td>0.788338</td>\n",
       "      <td>-0.179473</td>\n",
       "      <td>-1.565799</td>\n",
       "      <td>-2.024198</td>\n",
       "      <td>...</td>\n",
       "      <td>-1.424668</td>\n",
       "      <td>-2.181210</td>\n",
       "      <td>-0.114959</td>\n",
       "      <td>-10.315224</td>\n",
       "      <td>-0.893649</td>\n",
       "      <td>-1.213986</td>\n",
       "      <td>-0.363027</td>\n",
       "      <td>0.250095</td>\n",
       "      <td>1.115611</td>\n",
       "      <td>9.682922</td>\n",
       "    </tr>\n",
       "    <tr>\n",
       "      <th>1</th>\n",
       "      <td>1</td>\n",
       "      <td>0.263009</td>\n",
       "      <td>0.672741</td>\n",
       "      <td>-1.276907</td>\n",
       "      <td>-1.355845</td>\n",
       "      <td>0.382586</td>\n",
       "      <td>1.101637</td>\n",
       "      <td>0.741350</td>\n",
       "      <td>-0.022493</td>\n",
       "      <td>0.113484</td>\n",
       "      <td>...</td>\n",
       "      <td>-2.615758</td>\n",
       "      <td>-1.121970</td>\n",
       "      <td>0.097953</td>\n",
       "      <td>-8.733477</td>\n",
       "      <td>0.836930</td>\n",
       "      <td>0.826950</td>\n",
       "      <td>0.934055</td>\n",
       "      <td>-0.641918</td>\n",
       "      <td>0.393064</td>\n",
       "      <td>10.117723</td>\n",
       "    </tr>\n",
       "    <tr>\n",
       "      <th>2</th>\n",
       "      <td>1</td>\n",
       "      <td>0.680507</td>\n",
       "      <td>0.206036</td>\n",
       "      <td>0.615020</td>\n",
       "      <td>0.084483</td>\n",
       "      <td>-0.846453</td>\n",
       "      <td>0.952930</td>\n",
       "      <td>-0.818257</td>\n",
       "      <td>0.190081</td>\n",
       "      <td>2.136686</td>\n",
       "      <td>...</td>\n",
       "      <td>0.849165</td>\n",
       "      <td>-0.637284</td>\n",
       "      <td>-0.039821</td>\n",
       "      <td>-9.715435</td>\n",
       "      <td>1.635666</td>\n",
       "      <td>0.491069</td>\n",
       "      <td>-0.746536</td>\n",
       "      <td>0.618499</td>\n",
       "      <td>-0.000203</td>\n",
       "      <td>10.425596</td>\n",
       "    </tr>\n",
       "    <tr>\n",
       "      <th>3</th>\n",
       "      <td>1</td>\n",
       "      <td>-0.008258</td>\n",
       "      <td>-0.981953</td>\n",
       "      <td>-0.742750</td>\n",
       "      <td>-0.505203</td>\n",
       "      <td>-0.275252</td>\n",
       "      <td>-0.808217</td>\n",
       "      <td>-0.510242</td>\n",
       "      <td>-0.636793</td>\n",
       "      <td>-0.967854</td>\n",
       "      <td>...</td>\n",
       "      <td>-1.200666</td>\n",
       "      <td>-0.747700</td>\n",
       "      <td>-0.092345</td>\n",
       "      <td>-11.970017</td>\n",
       "      <td>-0.839604</td>\n",
       "      <td>0.690257</td>\n",
       "      <td>-1.284233</td>\n",
       "      <td>-1.603481</td>\n",
       "      <td>-1.370369</td>\n",
       "      <td>9.424147</td>\n",
       "    </tr>\n",
       "    <tr>\n",
       "      <th>4</th>\n",
       "      <td>1</td>\n",
       "      <td>1.302371</td>\n",
       "      <td>1.654045</td>\n",
       "      <td>0.773009</td>\n",
       "      <td>0.013460</td>\n",
       "      <td>1.854057</td>\n",
       "      <td>0.910489</td>\n",
       "      <td>1.073731</td>\n",
       "      <td>0.768216</td>\n",
       "      <td>-0.067239</td>\n",
       "      <td>...</td>\n",
       "      <td>0.831438</td>\n",
       "      <td>1.789426</td>\n",
       "      <td>-0.003377</td>\n",
       "      <td>-6.750360</td>\n",
       "      <td>0.566120</td>\n",
       "      <td>-0.251164</td>\n",
       "      <td>-0.465668</td>\n",
       "      <td>-1.682377</td>\n",
       "      <td>0.363020</td>\n",
       "      <td>11.139206</td>\n",
       "    </tr>\n",
       "  </tbody>\n",
       "</table>\n",
       "<p>5 rows × 22 columns</p>\n",
       "</div>"
      ],
      "text/plain": [
       "   X0        X1        X2        X3        X4        X5        X6        X7  \\\n",
       "0   1 -0.468244 -0.107078 -0.869273 -0.500579 -1.482541  0.788338 -0.179473   \n",
       "1   1  0.263009  0.672741 -1.276907 -1.355845  0.382586  1.101637  0.741350   \n",
       "2   1  0.680507  0.206036  0.615020  0.084483 -0.846453  0.952930 -0.818257   \n",
       "3   1 -0.008258 -0.981953 -0.742750 -0.505203 -0.275252 -0.808217 -0.510242   \n",
       "4   1  1.302371  1.654045  0.773009  0.013460  1.854057  0.910489  1.073731   \n",
       "\n",
       "         X8        X9    ...           X12       X13       X14        X15  \\\n",
       "0 -1.565799 -2.024198    ...     -1.424668 -2.181210 -0.114959 -10.315224   \n",
       "1 -0.022493  0.113484    ...     -2.615758 -1.121970  0.097953  -8.733477   \n",
       "2  0.190081  2.136686    ...      0.849165 -0.637284 -0.039821  -9.715435   \n",
       "3 -0.636793 -0.967854    ...     -1.200666 -0.747700 -0.092345 -11.970017   \n",
       "4  0.768216 -0.067239    ...      0.831438  1.789426 -0.003377  -6.750360   \n",
       "\n",
       "        X16       X17       X18       X19       X20          Y  \n",
       "0 -0.893649 -1.213986 -0.363027  0.250095  1.115611   9.682922  \n",
       "1  0.836930  0.826950  0.934055 -0.641918  0.393064  10.117723  \n",
       "2  1.635666  0.491069 -0.746536  0.618499 -0.000203  10.425596  \n",
       "3 -0.839604  0.690257 -1.284233 -1.603481 -1.370369   9.424147  \n",
       "4  0.566120 -0.251164 -0.465668 -1.682377  0.363020  11.139206  \n",
       "\n",
       "[5 rows x 22 columns]"
      ]
     },
     "execution_count": 19,
     "metadata": {},
     "output_type": "execute_result"
    }
   ],
   "source": [
    "df = generate_dataset(m=1000)\n",
    "df.head()"
   ]
  },
  {
   "cell_type": "markdown",
   "metadata": {},
   "source": [
    "**Fit the Model and compute Training Error**"
   ]
  },
  {
   "cell_type": "code",
   "execution_count": 75,
   "metadata": {},
   "outputs": [
    {
     "name": "stdout",
     "output_type": "stream",
     "text": [
      "Weights:\n",
      " [10.02987  0.40638  0.25452  0.09357  0.01887  0.01999  0.03028  0.01452\n",
      "  0.01012  0.00211  0.00797 -0.04118  0.03721  0.02849  0.01093  0.00272\n",
      "  0.00476 -0.00373 -0.00056  0.00675  0.0048 ]\n",
      "\n",
      "True Weights:\n",
      " [10, 0.36, 0.216, 0.1296, 0.07776, 0.04666, 0.02799, 0.0168, 0.01008, 0.00605, 0.00363]\n",
      "\n",
      "Difference between True Bias and Weights with the Trained Bias and Weights: \n",
      " [0.02987, 0.04638, 0.03852, -0.03603, -0.05889, -0.02667, 0.00229, -0.00228, 4e-05, -0.00394, 0.00434]\n"
     ]
    }
   ],
   "source": [
    "naive = fit_regression(df, t='naive')\n",
    "print('Weights:\\n',naive)\n",
    "\n",
    "#compare the weights with true weights and bias.\n",
    "trained_weight = naive[0:11]\n",
    "print('\\nTrue Weights:\\n',[round(x,5) for x in true_weights])\n",
    "difference = [round(trained_weight[x] - true_weights[x],5) for x in range(0, len(true_weights))]\n",
    "print('\\nDifference between True Bias and Weights with the Trained Bias and Weights: \\n',difference)"
   ]
  },
  {
   "cell_type": "markdown",
   "metadata": {},
   "source": [
    "When comparing the Trained weights(and bias) and True Weights(and bias) we see that there is a small difference between the two, as expected.\n",
    "\n",
    "Based on the value of the weights we can see which features are significant and which are not. If the value of weights are very small that concludes that those features are of lesser value. So from our output we see that the bias, and weights from  X1 to X5 are most significant and X16 to X20 are the least significant and we can prune the least significant features."
   ]
  },
  {
   "cell_type": "code",
   "execution_count": 21,
   "metadata": {},
   "outputs": [
    {
     "name": "stdout",
     "output_type": "stream",
     "text": [
      "Training Error:\n",
      " 0.00802\n"
     ]
    }
   ],
   "source": [
    "train_err = compute_error(df, naive)\n",
    "print('Training Error:\\n',train_err)"
   ]
  },
  {
   "cell_type": "markdown",
   "metadata": {},
   "source": [
    "**Compute 'True' Error based on dataset of 10000 rows**"
   ]
  },
  {
   "cell_type": "code",
   "execution_count": 22,
   "metadata": {},
   "outputs": [],
   "source": [
    "test_data = generate_dataset(m=10000)"
   ]
  },
  {
   "cell_type": "code",
   "execution_count": 76,
   "metadata": {},
   "outputs": [
    {
     "name": "stdout",
     "output_type": "stream",
     "text": [
      "True Error:\n",
      " 0.0067\n"
     ]
    }
   ],
   "source": [
    "print('True Error:\\n', compute_error(test_data, naive))"
   ]
  },
  {
   "cell_type": "markdown",
   "metadata": {},
   "source": [
    "# Question 2\n",
    "\n",
    "Write a program to take a data set of size m and a parameter $\\lambda$, and solve for the ridge regression model for that data. Write another program to take the solved model and estimate the true error by evaluating that model on a large test data set. For data sets of size m = 1000, plot estimated true error of the ridge regression model as a function of $\\lambda$. What is the optimal $\\lambda$ to minimize testing error? What are the weights and biases ridge regression gives at this $\\lambda$, and how do they compare to the true weights? What did your model conclude as the most significant and least significant features - was it able to prune anything? How does the optimal ridge regression model compare to the naive least squares model?"
   ]
  },
  {
   "cell_type": "markdown",
   "metadata": {},
   "source": [
    "**Fit the Ridge Regression model to the data, take $\\lambda = 10$**"
   ]
  },
  {
   "cell_type": "code",
   "execution_count": 77,
   "metadata": {},
   "outputs": [
    {
     "name": "stdout",
     "output_type": "stream",
     "text": [
      "Weights:\n",
      " [ 0.48805 -0.25608  1.48261  0.08545  0.02194  0.02966  0.02166  0.0177\n",
      "  0.01584 -0.0031   0.00817  0.62208  0.04285  0.01699  0.00675 -0.95094\n",
      "  0.00977 -0.0012  -0.00478  0.00357  0.00558]\n"
     ]
    }
   ],
   "source": [
    "ridge = fit_regression(df, l=10, t='ridge')\n",
    "print('Weights:\\n',ridge)"
   ]
  },
  {
   "cell_type": "markdown",
   "metadata": {},
   "source": [
    "**Compute True Error**"
   ]
  },
  {
   "cell_type": "code",
   "execution_count": 78,
   "metadata": {},
   "outputs": [
    {
     "name": "stdout",
     "output_type": "stream",
     "text": [
      "True Error:\n",
      " 0.01119\n"
     ]
    }
   ],
   "source": [
    "print('True Error:\\n',compute_error(test_data, ridge))"
   ]
  },
  {
   "cell_type": "code",
   "execution_count": 79,
   "metadata": {},
   "outputs": [
    {
     "data": {
      "image/png": "[encoded data removed]",
      "text/plain": [
       "<Figure size 432x288 with 1 Axes>"
      ]
     },
     "metadata": {},
     "output_type": "display_data"
    }
   ],
   "source": [
    "df = generate_dataset(m=1000)\n",
    "lambda_list = [-0.04, -0.03, -0.02, -0.01, 0.01, 0.02, 0.03, 0.04, 0.05] \n",
    "output = {}\n",
    "\n",
    "for l in lambda_list:\n",
    "    output[l] = compute_error(df, fit_regression(df, l=l, t='ridge'))\n",
    "    \n",
    "plot_list = sorted(output.items())\n",
    "x,y = zip(*plot_list)\n",
    "\n",
    "plt.plot(x,y)\n",
    "plt.title('lambda v/s true err')\n",
    "plt.xlabel('Lambda')\n",
    "plt.ylabel('True Err')\n",
    "plt.show()"
   ]
  },
  {
   "cell_type": "markdown",
   "metadata": {},
   "source": [
    "**Weights and biases when $\\lambda = 0.02$**"
   ]
  },
  {
   "cell_type": "code",
   "execution_count": 80,
   "metadata": {},
   "outputs": [
    {
     "name": "stdout",
     "output_type": "stream",
     "text": [
      "Here bias is at index 0 and rest are the weights\n",
      "Weights:\n",
      " [ 8.4502   0.34592  0.51137  0.12437  0.03386  0.00406  0.02532  0.01727\n",
      "  0.01075  0.01221  0.00466  0.01358  0.00318  0.04086 -0.01177 -0.15491\n",
      " -0.00167  0.00348 -0.0029  -0.00096 -0.00095]\n",
      "\n",
      "True Weights:\n",
      " [10, 0.36, 0.216, 0.1296, 0.07776, 0.04666, 0.02799, 0.0168, 0.01008, 0.00605, 0.00363]\n",
      "\n",
      "Difference between True Bias and Weights with the Trained Bias and Weights: \n",
      " [-1.5498, -0.01408, 0.29537, -0.00523, -0.0439, -0.04259, -0.00267, 0.00047, 0.00067, 0.00616, 0.00103]\n"
     ]
    }
   ],
   "source": [
    "print('Here bias is at index 0 and rest are the weights')\n",
    "ridge = fit_regression(df, l=0.02, t='ridge')\n",
    "print('Weights:\\n',ridge)\n",
    "\n",
    "#compare the weights with true weights and bias.\n",
    "trained_weight = ridge[0:11]\n",
    "print('\\nTrue Weights:\\n',[round(x,5) for x in true_wights])\n",
    "difference = [round(trained_weight[x] - true_wights[x],5) for x in range(0, len(true_wights))]\n",
    "print('\\nDifference between True Bias and Weights with the Trained Bias and Weights: \\n',difference)"
   ]
  },
  {
   "cell_type": "markdown",
   "metadata": {},
   "source": [
    "When comparing the Trained weights(and bias) and True Weights(and bias) we see that there is a small difference between the two, as expected.\n",
    "\n",
    "Based on the value of the weights we can see which features are significant and which are not. If the value of weights are very small that concludes that those features are of lesser value. So from our output we see that the bias, and weights from  X1 to X5 are most significant and X17 to X20 are the least significant and we can prune the least significant features."
   ]
  },
  {
   "cell_type": "code",
   "execution_count": 81,
   "metadata": {},
   "outputs": [
    {
     "name": "stdout",
     "output_type": "stream",
     "text": [
      "True Error:\n",
      " 0.00715\n"
     ]
    }
   ],
   "source": [
    "print('True Error:\\n',compute_error(test_data, ridge))"
   ]
  },
  {
   "cell_type": "markdown",
   "metadata": {},
   "source": [
    "**Conclusion**\n",
    "\n",
    "How does the optimal ridge regression model compare to the naive least squares model?\n",
    "\n",
    "We can see this by the True error, as the True error for Ridge Regression is less than Naive Regression."
   ]
  },
  {
   "cell_type": "markdown",
   "metadata": {},
   "source": [
    "# Question 3\n",
    "\n",
    "Write a program to take a data set of size m and a parameter $\\lambda$, and solve for the Lasso regression model for that data. For a data set of size m = 1000, show that as $\\lambda$ increases, features are effectively eliminated from the model until all weights are set to zero."
   ]
  },
  {
   "cell_type": "code",
   "execution_count": 82,
   "metadata": {},
   "outputs": [
    {
     "data": {
      "text/html": [
       "<div>\n",
       "<style scoped>\n",
       "    .dataframe tbody tr th:only-of-type {\n",
       "        vertical-align: middle;\n",
       "    }\n",
       "\n",
       "    .dataframe tbody tr th {\n",
       "        vertical-align: top;\n",
       "    }\n",
       "\n",
       "    .dataframe thead th {\n",
       "        text-align: right;\n",
       "    }\n",
       "</style>\n",
       "<table border=\"1\" class=\"dataframe\">\n",
       "  <thead>\n",
       "    <tr style=\"text-align: right;\">\n",
       "      <th></th>\n",
       "      <th>X0</th>\n",
       "      <th>X1</th>\n",
       "      <th>X2</th>\n",
       "      <th>X3</th>\n",
       "      <th>X4</th>\n",
       "      <th>X5</th>\n",
       "      <th>X6</th>\n",
       "      <th>X7</th>\n",
       "      <th>X8</th>\n",
       "      <th>X9</th>\n",
       "      <th>...</th>\n",
       "      <th>X12</th>\n",
       "      <th>X13</th>\n",
       "      <th>X14</th>\n",
       "      <th>X15</th>\n",
       "      <th>X16</th>\n",
       "      <th>X17</th>\n",
       "      <th>X18</th>\n",
       "      <th>X19</th>\n",
       "      <th>X20</th>\n",
       "      <th>Y</th>\n",
       "    </tr>\n",
       "  </thead>\n",
       "  <tbody>\n",
       "    <tr>\n",
       "      <th>0</th>\n",
       "      <td>1</td>\n",
       "      <td>-0.773603</td>\n",
       "      <td>-0.091234</td>\n",
       "      <td>0.037082</td>\n",
       "      <td>-1.053734</td>\n",
       "      <td>0.644026</td>\n",
       "      <td>0.622207</td>\n",
       "      <td>0.367024</td>\n",
       "      <td>-0.373473</td>\n",
       "      <td>0.114640</td>\n",
       "      <td>...</td>\n",
       "      <td>-1.071340</td>\n",
       "      <td>-0.574870</td>\n",
       "      <td>0.184516</td>\n",
       "      <td>-10.097121</td>\n",
       "      <td>1.667048</td>\n",
       "      <td>0.626579</td>\n",
       "      <td>-1.188360</td>\n",
       "      <td>0.048674</td>\n",
       "      <td>0.280283</td>\n",
       "      <td>9.603530</td>\n",
       "    </tr>\n",
       "    <tr>\n",
       "      <th>1</th>\n",
       "      <td>1</td>\n",
       "      <td>-0.322008</td>\n",
       "      <td>-1.612480</td>\n",
       "      <td>0.429062</td>\n",
       "      <td>-0.973586</td>\n",
       "      <td>0.953963</td>\n",
       "      <td>-1.787101</td>\n",
       "      <td>1.123238</td>\n",
       "      <td>-1.232796</td>\n",
       "      <td>-1.681746</td>\n",
       "      <td>...</td>\n",
       "      <td>-0.706466</td>\n",
       "      <td>-0.101278</td>\n",
       "      <td>-0.040887</td>\n",
       "      <td>-13.237014</td>\n",
       "      <td>-0.033773</td>\n",
       "      <td>-0.362333</td>\n",
       "      <td>-0.379620</td>\n",
       "      <td>0.542999</td>\n",
       "      <td>-1.136398</td>\n",
       "      <td>9.426222</td>\n",
       "    </tr>\n",
       "    <tr>\n",
       "      <th>2</th>\n",
       "      <td>1</td>\n",
       "      <td>0.144021</td>\n",
       "      <td>-0.739667</td>\n",
       "      <td>0.985590</td>\n",
       "      <td>-0.442746</td>\n",
       "      <td>0.609574</td>\n",
       "      <td>0.707026</td>\n",
       "      <td>-0.463267</td>\n",
       "      <td>2.352182</td>\n",
       "      <td>-0.737974</td>\n",
       "      <td>...</td>\n",
       "      <td>0.705369</td>\n",
       "      <td>0.065483</td>\n",
       "      <td>-0.138413</td>\n",
       "      <td>-11.389494</td>\n",
       "      <td>0.863326</td>\n",
       "      <td>0.570690</td>\n",
       "      <td>1.618593</td>\n",
       "      <td>-0.233146</td>\n",
       "      <td>-1.274820</td>\n",
       "      <td>10.032731</td>\n",
       "    </tr>\n",
       "    <tr>\n",
       "      <th>3</th>\n",
       "      <td>1</td>\n",
       "      <td>-0.865826</td>\n",
       "      <td>1.869681</td>\n",
       "      <td>-1.540936</td>\n",
       "      <td>1.081130</td>\n",
       "      <td>-2.650913</td>\n",
       "      <td>-0.104953</td>\n",
       "      <td>-1.789587</td>\n",
       "      <td>-1.756356</td>\n",
       "      <td>1.418613</td>\n",
       "      <td>...</td>\n",
       "      <td>-0.511343</td>\n",
       "      <td>-1.674901</td>\n",
       "      <td>-0.244582</td>\n",
       "      <td>-6.278297</td>\n",
       "      <td>-0.721765</td>\n",
       "      <td>-0.872394</td>\n",
       "      <td>-0.749263</td>\n",
       "      <td>0.737667</td>\n",
       "      <td>-0.061784</td>\n",
       "      <td>9.768495</td>\n",
       "    </tr>\n",
       "    <tr>\n",
       "      <th>4</th>\n",
       "      <td>1</td>\n",
       "      <td>1.086247</td>\n",
       "      <td>-0.473199</td>\n",
       "      <td>0.923353</td>\n",
       "      <td>-1.031145</td>\n",
       "      <td>-0.679329</td>\n",
       "      <td>-0.094868</td>\n",
       "      <td>0.675072</td>\n",
       "      <td>-0.352337</td>\n",
       "      <td>-1.720380</td>\n",
       "      <td>...</td>\n",
       "      <td>-0.137442</td>\n",
       "      <td>-1.718172</td>\n",
       "      <td>0.122241</td>\n",
       "      <td>-11.017426</td>\n",
       "      <td>-0.170356</td>\n",
       "      <td>-0.786658</td>\n",
       "      <td>0.730567</td>\n",
       "      <td>-1.320049</td>\n",
       "      <td>-0.824328</td>\n",
       "      <td>10.228620</td>\n",
       "    </tr>\n",
       "  </tbody>\n",
       "</table>\n",
       "<p>5 rows × 22 columns</p>\n",
       "</div>"
      ],
      "text/plain": [
       "   X0        X1        X2        X3        X4        X5        X6        X7  \\\n",
       "0   1 -0.773603 -0.091234  0.037082 -1.053734  0.644026  0.622207  0.367024   \n",
       "1   1 -0.322008 -1.612480  0.429062 -0.973586  0.953963 -1.787101  1.123238   \n",
       "2   1  0.144021 -0.739667  0.985590 -0.442746  0.609574  0.707026 -0.463267   \n",
       "3   1 -0.865826  1.869681 -1.540936  1.081130 -2.650913 -0.104953 -1.789587   \n",
       "4   1  1.086247 -0.473199  0.923353 -1.031145 -0.679329 -0.094868  0.675072   \n",
       "\n",
       "         X8        X9    ...           X12       X13       X14        X15  \\\n",
       "0 -0.373473  0.114640    ...     -1.071340 -0.574870  0.184516 -10.097121   \n",
       "1 -1.232796 -1.681746    ...     -0.706466 -0.101278 -0.040887 -13.237014   \n",
       "2  2.352182 -0.737974    ...      0.705369  0.065483 -0.138413 -11.389494   \n",
       "3 -1.756356  1.418613    ...     -0.511343 -1.674901 -0.244582  -6.278297   \n",
       "4 -0.352337 -1.720380    ...     -0.137442 -1.718172  0.122241 -11.017426   \n",
       "\n",
       "        X16       X17       X18       X19       X20          Y  \n",
       "0  1.667048  0.626579 -1.188360  0.048674  0.280283   9.603530  \n",
       "1 -0.033773 -0.362333 -0.379620  0.542999 -1.136398   9.426222  \n",
       "2  0.863326  0.570690  1.618593 -0.233146 -1.274820  10.032731  \n",
       "3 -0.721765 -0.872394 -0.749263  0.737667 -0.061784   9.768495  \n",
       "4 -0.170356 -0.786658  0.730567 -1.320049 -0.824328  10.228620  \n",
       "\n",
       "[5 rows x 22 columns]"
      ]
     },
     "execution_count": 82,
     "metadata": {},
     "output_type": "execute_result"
    }
   ],
   "source": [
    "#Generate data\n",
    "df = generate_dataset(m=1000)\n",
    "df.head()"
   ]
  },
  {
   "cell_type": "code",
   "execution_count": 83,
   "metadata": {},
   "outputs": [
    {
     "name": "stdout",
     "output_type": "stream",
     "text": [
      "Weights:\n",
      " [ 9.99113  0.3221   0.18355  0.10455  0.04953  0.05107  0.02807  0.01874\n",
      "  0.01065  0.00257  0.00576  0.03612  0.02844  0.00077  0.      -0.001\n",
      " -0.00432  0.       0.       0.       0.     ]\n"
     ]
    }
   ],
   "source": [
    "#Fit lasso regression \n",
    "lasso = fit_lasso_regression(df, l=1)\n",
    "print('Weights:\\n',lasso)"
   ]
  },
  {
   "cell_type": "code",
   "execution_count": 84,
   "metadata": {
    "scrolled": false
   },
   "outputs": [
    {
     "name": "stdout",
     "output_type": "stream",
     "text": [
      "\n",
      "\n",
      "For lambda:  1\n",
      "\n",
      "Weights:\n",
      " [ 9.99113  0.3221   0.18355  0.10455  0.04953  0.05107  0.02807  0.01874\n",
      "  0.01065  0.00257  0.00576  0.03612  0.02844  0.00077  0.      -0.001\n",
      " -0.00432  0.       0.       0.       0.     ]\n",
      "\n",
      "\n",
      "For lambda:  5\n",
      "\n",
      "Weights:\n",
      " [10.00524  0.24299  0.10174  0.07303  0.       0.0283   0.02593  0.01674\n",
      "  0.00823  0.00003  0.00358  0.1136   0.05744  0.02147  0.       0.00042\n",
      " -0.00241  0.       0.       0.       0.     ]\n",
      "\n",
      "\n",
      "For lambda:  10\n",
      "\n",
      "Weights:\n",
      " [10.01065  0.14415  0.00207  0.07122  0.       0.02449  0.02337  0.01452\n",
      "  0.00544  0.       0.00083  0.21036  0.05651  0.02266  0.       0.00097\n",
      " -0.00001  0.       0.       0.       0.     ]\n",
      "\n",
      "\n",
      "For lambda:  20\n",
      "\n",
      "Weights:\n",
      " [10.00125  0.1314   0.       0.06518  0.       0.0199   0.01797  0.00949\n",
      "  0.00021  0.       0.       0.21602  0.05762  0.02171  0.       0.\n",
      "  0.       0.       0.       0.       0.     ]\n",
      "\n",
      "\n",
      "For lambda:  30\n",
      "\n",
      "Weights:\n",
      " [10.00122  0.12572  0.       0.0603   0.       0.01464  0.01274  0.00426\n",
      "  0.       0.       0.       0.21624  0.0576   0.02167  0.       0.\n",
      "  0.       0.       0.       0.       0.     ]\n",
      "\n",
      "\n",
      "For lambda:  50\n",
      "\n",
      "Weights:\n",
      " [10.001    0.11436  0.       0.04982  0.       0.00468  0.00215  0.\n",
      "  0.       0.       0.       0.21706  0.05825  0.02096  0.       0.\n",
      "  0.       0.       0.       0.       0.     ]\n",
      "\n",
      "\n",
      "For lambda:  100\n",
      "\n",
      "Weights:\n",
      " [9.99951 0.08821 0.      0.00492 0.      0.      0.      0.      0.\n",
      " 0.      0.      0.21825 0.07951 0.      0.      0.      0.      0.\n",
      " 0.      0.      0.     ]\n",
      "\n",
      "\n",
      "For lambda:  200\n",
      "\n",
      "Weights:\n",
      " [9.99771 0.03962 0.      0.      0.      0.      0.      0.      0.\n",
      " 0.      0.      0.21813 0.0593  0.      0.      0.      0.      0.\n",
      " 0.      0.      0.     ]\n",
      "\n",
      "\n",
      "For lambda:  500\n",
      "\n",
      "Weights:\n",
      " [9.99073 0.      0.      0.      0.      0.      0.      0.      0.\n",
      " 0.      0.      0.16428 0.      0.      0.      0.      0.      0.\n",
      " 0.      0.      0.     ]\n",
      "\n",
      "\n",
      "For lambda:  10000\n",
      "\n",
      "Weights:\n",
      " [9.97921 0.      0.      0.      0.      0.      0.      0.      0.\n",
      " 0.      0.      0.      0.      0.      0.      0.      0.      0.\n",
      " 0.      0.      0.     ]\n"
     ]
    }
   ],
   "source": [
    "lambda_list = [1, 5, 10, 20, 30, 50, 100, 200, 500, 10000]\n",
    "for l in lambda_list:\n",
    "    lasso = fit_lasso_regression(df, l=l)\n",
    "    print('\\n\\nFor lambda: ', l)\n",
    "    print('\\nWeights:\\n', lasso)"
   ]
  },
  {
   "cell_type": "markdown",
   "metadata": {},
   "source": [
    "**Conclusion**\n",
    "\n",
    "We can conlude from above results that, as the value of $\\lambda$ increases the values of weights are all set to zero and all the features are eliminated from the model."
   ]
  },
  {
   "cell_type": "markdown",
   "metadata": {},
   "source": [
    "# Question 4\n",
    "\n",
    "For data sets of size m = 1000, plot estimated true error of the lasso regression model as a function of $\\lambda$. What is the optimal $\\lambda$ to minimize testing error? What are the weights and biases lasso regression gives at this $\\lambda$, and how do they compare to the true weights? What did your model conclude as the most significant and least signficiant features - was it able to prune anything? How does the optimal regression model compare to the naive least squares model?"
   ]
  },
  {
   "cell_type": "code",
   "execution_count": 91,
   "metadata": {},
   "outputs": [
    {
     "data": {
      "image/png": "[encoded data removed]",
      "text/plain": [
       "<Figure size 432x288 with 1 Axes>"
      ]
     },
     "metadata": {},
     "output_type": "display_data"
    }
   ],
   "source": [
    "df = generate_dataset(m=1000)\n",
    "lambda_list = [-0.05,  0.01, 0.05, 0.1, 0.5, 1, 5,10] \n",
    "output = {}\n",
    "\n",
    "for l in lambda_list:\n",
    "    output[l] = compute_error(df, fit_lasso_regression(df, l=l))\n",
    "    \n",
    "plot_list = sorted(output.items())\n",
    "x,y = zip(*plot_list)\n",
    "\n",
    "plt.plot(x,y)\n",
    "plt.title('lambda v/s true err')\n",
    "plt.xlabel('Lambda')\n",
    "plt.ylabel('True Err')\n",
    "plt.show()"
   ]
  },
  {
   "cell_type": "code",
   "execution_count": 33,
   "metadata": {},
   "outputs": [
    {
     "name": "stdout",
     "output_type": "stream",
     "text": [
      "Here bias is at index 0 and rest are the weights\n",
      "Weights:\n",
      " [ 9.99831  0.35861  0.21098  0.1074   0.0644   0.05542  0.03133  0.01624\n",
      "  0.00981  0.00771  0.00334  0.00049  0.02254 -0.00935 -0.01448 -0.00026\n",
      "  0.00029  0.00262  0.00233 -0.00011 -0.00317]\n",
      "\n",
      "True Weights:\n",
      " [10, 0.36, 0.216, 0.1296, 0.07776, 0.04666, 0.02799, 0.0168, 0.01008, 0.00605, 0.00363]\n",
      "\n",
      "Difference between True Bias and Weights with the Trained Bias and Weights: \n",
      " [-0.00169, -0.00139, -0.00502, -0.0222, -0.01336, 0.00876, 0.00334, -0.00056, -0.00026, 0.00166, -0.00029]\n"
     ]
    }
   ],
   "source": [
    "print('Here bias is at index 0 and rest are the weights')\n",
    "lasso = fit_lasso_regression(df, l=0.02)\n",
    "print('Weights:\\n',lasso)\n",
    "\n",
    "#compare the weights with true weights and bias.\n",
    "trained_weight = lasso[0:11]\n",
    "print('\\nTrue Weights:\\n',[round(x,5) for x in true_wights])\n",
    "difference = [round(trained_weight[x] - true_wights[x],5) for x in range(0, len(true_wights))]\n",
    "print('\\nDifference between True Bias and Weights with the Trained Bias and Weights: \\n',difference)"
   ]
  },
  {
   "cell_type": "markdown",
   "metadata": {},
   "source": [
    "When comparing the Trained weights(and bias) and True Weights(and bias) we see that there is a small difference between the two, as expected.\n",
    "\n",
    "Based on the value of the weights we can see which features are significant and which are not. If the value of weights are very small that concludes that those features are of lesser value. So from our output we see that the bias, and weights from  X1 to X5 are most significant and X17 to X20 are the least significant and we can prune the least significant features."
   ]
  },
  {
   "cell_type": "code",
   "execution_count": 34,
   "metadata": {},
   "outputs": [
    {
     "name": "stdout",
     "output_type": "stream",
     "text": [
      "True Error:\n",
      " 0.00801\n"
     ]
    }
   ],
   "source": [
    "print('True Error:\\n',compute_error(test_data, lasso))"
   ]
  },
  {
   "cell_type": "markdown",
   "metadata": {},
   "source": [
    "**Conclusion**\n",
    "\n",
    "How does the optimal lasso regression model compare to the naive least squares model?\n",
    "\n",
    "We can see this by the True error, as the True error for Lasso Regression is less than Naive Regression."
   ]
  },
  {
   "cell_type": "markdown",
   "metadata": {},
   "source": [
    "# Question 5\n",
    "\n",
    "Consider using lasso as a means for feature selection: on a data set of size m = 1000, run lasso regression with the optimal regularization constant from the previous problems, and identify the set of relevant features; then run ridge regression to fit a model to only those features. How can you determine a good ridge regression regularization constant to use here? How does the resulting lasso-ridge combination model compare to the naive least squares model? What features does it conclude are significant or relatively insignificant? How do the testing errors of these two models compare?"
   ]
  },
  {
   "cell_type": "markdown",
   "metadata": {},
   "source": [
    "As seen in the above example lets take the features whose coefficient are > 0.01. So we take features = {Bias, X1, X2, X3, X4, X5, X6, X7, X12, X13, X14} and run ridge regression on it."
   ]
  },
  {
   "cell_type": "code",
   "execution_count": 35,
   "metadata": {},
   "outputs": [
    {
     "data": {
      "text/html": [
       "<div>\n",
       "<style scoped>\n",
       "    .dataframe tbody tr th:only-of-type {\n",
       "        vertical-align: middle;\n",
       "    }\n",
       "\n",
       "    .dataframe tbody tr th {\n",
       "        vertical-align: top;\n",
       "    }\n",
       "\n",
       "    .dataframe thead th {\n",
       "        text-align: right;\n",
       "    }\n",
       "</style>\n",
       "<table border=\"1\" class=\"dataframe\">\n",
       "  <thead>\n",
       "    <tr style=\"text-align: right;\">\n",
       "      <th></th>\n",
       "      <th>X0</th>\n",
       "      <th>X1</th>\n",
       "      <th>X2</th>\n",
       "      <th>X3</th>\n",
       "      <th>X4</th>\n",
       "      <th>X5</th>\n",
       "      <th>X6</th>\n",
       "      <th>X7</th>\n",
       "      <th>X12</th>\n",
       "      <th>X13</th>\n",
       "      <th>X14</th>\n",
       "      <th>Y</th>\n",
       "    </tr>\n",
       "  </thead>\n",
       "  <tbody>\n",
       "    <tr>\n",
       "      <th>0</th>\n",
       "      <td>1</td>\n",
       "      <td>-0.862531</td>\n",
       "      <td>-0.628756</td>\n",
       "      <td>0.994723</td>\n",
       "      <td>1.657353</td>\n",
       "      <td>-0.537293</td>\n",
       "      <td>-0.521495</td>\n",
       "      <td>0.025745</td>\n",
       "      <td>2.756001</td>\n",
       "      <td>1.196699</td>\n",
       "      <td>-0.012577</td>\n",
       "      <td>9.810986</td>\n",
       "    </tr>\n",
       "    <tr>\n",
       "      <th>1</th>\n",
       "      <td>1</td>\n",
       "      <td>0.361648</td>\n",
       "      <td>-2.818744</td>\n",
       "      <td>-0.523411</td>\n",
       "      <td>-0.542179</td>\n",
       "      <td>-0.337131</td>\n",
       "      <td>1.445675</td>\n",
       "      <td>-0.268246</td>\n",
       "      <td>-1.098928</td>\n",
       "      <td>-0.892108</td>\n",
       "      <td>-0.037346</td>\n",
       "      <td>9.461822</td>\n",
       "    </tr>\n",
       "    <tr>\n",
       "      <th>2</th>\n",
       "      <td>1</td>\n",
       "      <td>-1.187080</td>\n",
       "      <td>-0.107199</td>\n",
       "      <td>0.868128</td>\n",
       "      <td>-1.363357</td>\n",
       "      <td>1.160069</td>\n",
       "      <td>-3.086694</td>\n",
       "      <td>-0.473303</td>\n",
       "      <td>-0.553986</td>\n",
       "      <td>-0.288514</td>\n",
       "      <td>-0.158961</td>\n",
       "      <td>9.542071</td>\n",
       "    </tr>\n",
       "    <tr>\n",
       "      <th>3</th>\n",
       "      <td>1</td>\n",
       "      <td>-1.007852</td>\n",
       "      <td>-0.069427</td>\n",
       "      <td>-0.549166</td>\n",
       "      <td>-0.028312</td>\n",
       "      <td>-1.266432</td>\n",
       "      <td>0.364680</td>\n",
       "      <td>-2.381698</td>\n",
       "      <td>-0.589647</td>\n",
       "      <td>-1.404401</td>\n",
       "      <td>-0.151436</td>\n",
       "      <td>9.302436</td>\n",
       "    </tr>\n",
       "    <tr>\n",
       "      <th>4</th>\n",
       "      <td>1</td>\n",
       "      <td>-0.694722</td>\n",
       "      <td>0.492224</td>\n",
       "      <td>0.333639</td>\n",
       "      <td>0.377573</td>\n",
       "      <td>0.350409</td>\n",
       "      <td>0.811197</td>\n",
       "      <td>1.572970</td>\n",
       "      <td>0.757293</td>\n",
       "      <td>0.693721</td>\n",
       "      <td>0.181841</td>\n",
       "      <td>10.063599</td>\n",
       "    </tr>\n",
       "  </tbody>\n",
       "</table>\n",
       "</div>"
      ],
      "text/plain": [
       "   X0        X1        X2        X3        X4        X5        X6        X7  \\\n",
       "0   1 -0.862531 -0.628756  0.994723  1.657353 -0.537293 -0.521495  0.025745   \n",
       "1   1  0.361648 -2.818744 -0.523411 -0.542179 -0.337131  1.445675 -0.268246   \n",
       "2   1 -1.187080 -0.107199  0.868128 -1.363357  1.160069 -3.086694 -0.473303   \n",
       "3   1 -1.007852 -0.069427 -0.549166 -0.028312 -1.266432  0.364680 -2.381698   \n",
       "4   1 -0.694722  0.492224  0.333639  0.377573  0.350409  0.811197  1.572970   \n",
       "\n",
       "        X12       X13       X14          Y  \n",
       "0  2.756001  1.196699 -0.012577   9.810986  \n",
       "1 -1.098928 -0.892108 -0.037346   9.461822  \n",
       "2 -0.553986 -0.288514 -0.158961   9.542071  \n",
       "3 -0.589647 -1.404401 -0.151436   9.302436  \n",
       "4  0.757293  0.693721  0.181841  10.063599  "
      ]
     },
     "execution_count": 35,
     "metadata": {},
     "output_type": "execute_result"
    }
   ],
   "source": [
    "modified_df = df.copy()\n",
    "modified_df = modified_df[['X0', 'X1', 'X2', 'X3', 'X4', 'X5', 'X6', 'X7', 'X12', 'X13', 'X14', 'Y']]\n",
    "modified_df.head()"
   ]
  },
  {
   "cell_type": "code",
   "execution_count": 36,
   "metadata": {},
   "outputs": [
    {
     "name": "stdout",
     "output_type": "stream",
     "text": [
      "lasso-ridge error:\n",
      " 0.01038\n"
     ]
    }
   ],
   "source": [
    "#running ridge regression\n",
    "ridge = fit_regression(modified_df, t='ridge', l=0.2)\n",
    "error = compute_error(modified_df, ridge)\n",
    "print('lasso-ridge error:\\n',error)"
   ]
  },
  {
   "cell_type": "code",
   "execution_count": 37,
   "metadata": {},
   "outputs": [
    {
     "data": {
      "image/png": "[encoded data removed]",
      "text/plain": [
       "<Figure size 432x288 with 1 Axes>"
      ]
     },
     "metadata": {},
     "output_type": "display_data"
    }
   ],
   "source": [
    "df = generate_dataset(m=1000)\n",
    "modified_df = df.copy()\n",
    "modified_df = modified_df[['X0', 'X1', 'X2', 'X3', 'X4', 'X5', 'X6', 'X7', 'X12', 'X13', 'X14', 'Y']]\n",
    "lambda_list = [-.10, -0.04, -0.03, -0.02, -0.01, 0.01, 0.02, 0.03, 0.04, 0.05, 0.9] \n",
    "output = {}\n",
    "\n",
    "for l in lambda_list:\n",
    "    output[l] = compute_error(modified_df, fit_regression(modified_df, l=l, t='ridge'))\n",
    "    \n",
    "plot_list = sorted(output.items())\n",
    "x,y = zip(*plot_list)\n",
    "\n",
    "plt.plot(x,y)\n",
    "plt.title('lambda v/s true err')\n",
    "plt.xlabel('Lambda')\n",
    "plt.ylabel('True Err')\n",
    "plt.show()"
   ]
  },
  {
   "cell_type": "markdown",
   "metadata": {},
   "source": [
    "**Weights and biases when $\\lambda = 0.02$**"
   ]
  },
  {
   "cell_type": "code",
   "execution_count": 38,
   "metadata": {},
   "outputs": [
    {
     "name": "stdout",
     "output_type": "stream",
     "text": [
      "Here bias is at index 0 and rest are the weights\n",
      "Weights:\n",
      " [10.0037   0.36473  0.21929  0.09785  0.02122  0.01759  0.03099  0.01497\n",
      "  0.03257  0.03063  0.01018]\n",
      "\n",
      "True Weights:\n",
      " [10, 0.36, 0.216, 0.1296, 0.07776, 0.04666, 0.02799, 0.0168, 0.01008, 0.00605, 0.00363]\n",
      "\n",
      "Difference between True Bias and Weights with the Trained Bias and Weights: \n",
      " [0.0037, 0.00473, 0.00329, -0.03175, -0.05654, -0.02906, 0.003, -0.00182, 0.0225, 0.02458, 0.00655]\n"
     ]
    }
   ],
   "source": [
    "print('Here bias is at index 0 and rest are the weights')\n",
    "ridge = fit_regression(modified_df, l=0.02, t='ridge')\n",
    "print('Weights:\\n',ridge)\n",
    "\n",
    "#compare the weights with true weights and bias.\n",
    "trained_weight = ridge[0:11]\n",
    "print('\\nTrue Weights:\\n',[round(x,5) for x in true_wights])\n",
    "difference = [round(trained_weight[x] - true_wights[x],5) for x in range(0, len(true_wights))]\n",
    "print('\\nDifference between True Bias and Weights with the Trained Bias and Weights: \\n',difference)"
   ]
  },
  {
   "cell_type": "markdown",
   "metadata": {},
   "source": [
    "When comparing the Trained weights(and bias) and True Weights(and bias) we see that there is a small difference between the two, as expected.\n",
    "\n",
    "Based on the value of the weights we can see which features are significant and which are not. If the value of weights are very small that concludes that those features are of lesser value. So from our output we see that the bias, and weights from  X1 to X2 are most significant and rest are relatively insignificant."
   ]
  },
  {
   "cell_type": "code",
   "execution_count": 39,
   "metadata": {},
   "outputs": [
    {
     "name": "stdout",
     "output_type": "stream",
     "text": [
      "True Error:\n",
      " 0.00588\n"
     ]
    }
   ],
   "source": [
    "print('True Error:\\n',compute_error(modified_df, ridge))"
   ]
  },
  {
   "cell_type": "markdown",
   "metadata": {},
   "source": [
    "**Conclusion**\n",
    "\n",
    "We can see from the naive regresison (error: 0.01038) and lasso-ridge regression (error: 0.00588) that lasso-ridge regression has a superior performance than the naive solution."
   ]
  },
  {
   "cell_type": "markdown",
   "metadata": {},
   "source": [
    "# Part 2 - SVM"
   ]
  },
  {
   "cell_type": "markdown",
   "metadata": {},
   "source": [
    "# Question 1\n",
    "\n",
    "Implement a barrier-method dual SVM solver. How can you (easily!) generate an initial feasible $\\underline{\\alpha}$ solution away from the boundaries of the constraint region? How can you ensure that you do not step outside the constraint region in any update step? How do you choose your $\\epsilon_t$? Be sure to return all $\\alpha_i$ including $\\alpha_1$ in the final answer."
   ]
  },
  {
   "cell_type": "code",
   "execution_count": 45,
   "metadata": {},
   "outputs": [
    {
     "name": "stdout",
     "output_type": "stream",
     "text": [
      "\n",
      "the final alphas are:\n",
      "\n",
      "[0.125000000004962, 0.12500000001845, 0.125000004997984, 0.12500000498936]\n"
     ]
    }
   ],
   "source": [
    "max_iterations=1000\n",
    "i=0\n",
    "\n",
    "alpha2=[1]\n",
    "alpha3=[1]\n",
    "alpha4=[1]\n",
    "\n",
    "learning_rate=.01\n",
    "costs=[]\n",
    "eps=1\n",
    "costs.append(-1000)\n",
    "\n",
    "while(i < max_iterations):\n",
    "    #alpha1=[]\n",
    "    #cost = 1\n",
    "    cost= 2*alpha2[i]+2*alpha4[i] - .5* ( 9*(alpha2[i]+alpha4[i]-alpha3[i])**2+ 9*(alpha2[i]**2)+9*(alpha3[i]**2)+9*(alpha4[i]**2)-2*(alpha2[i]+alpha4[i]-alpha3[i])*(alpha2[i]+alpha3[i]-alpha4[i])+2*alpha2[i]*alpha3[i] -2*alpha2[i]*alpha4[i]-2*alpha3[i]*alpha4[i])\n",
    "    #cost = (2*alpha2[i] + 2*alpha4[i]) - 0.5 * ( 9*(alpha2[i]+alpha4[i]-alpha3[i])*2 + 9*alpha2[i]*2 + 9*alpha3[i]*2 + 9*alpha4[i]*2 - 2*(alpha2[i]+alpha4[i]-alpha3[i]) * (alpha2[i]+alpha3[i]-alpha4[i])+2*alpha2[i]*alpha3[i] -2*alpha2[i]*alpha4[i]-2*alpha3[i]*alpha4[i]) + eps(np.log(alpha2[i]+alpha4[i]-alpha3[i])+np.log(alpha2[i])+np.log(alpha3[i])+np.log(alpha4[i]))\n",
    "    costs.append(cost)\n",
    "    alpha2.append(alpha2[i]+learning_rate*(2-(16*alpha2[i]-8*alpha3[i]+8* alpha4[i]) +(eps*(1/alpha2[i] + 1/(alpha2[i]+alpha4[i]-alpha3[i])))))\n",
    "    alpha4.append(alpha4[i]+learning_rate*(2-(20*alpha4[i]+8*alpha2[i]-12* alpha3[i]) +(eps*(1/alpha4[i] + 1/(alpha2[i]+alpha4[i]-alpha3[i])))))\n",
    "    alpha3.append(alpha3[i]+learning_rate*(0-(-8*alpha2[i]+20*alpha3[i]-12* alpha4[i]) +(eps*(1/alpha3[i] -1/(alpha2[i]+alpha4[i]-alpha3[i])))))\n",
    "    \n",
    "    i=i+1 \n",
    "    if (costs[i]<=costs[i-1]):\n",
    "        print(\"\\nthe final alphas are:\\n\")\n",
    "        #print(alpha2[i]+alpha4[i]-alpha3[i],alpha2[i], alpha3[i], alpha4[i])\n",
    "        break\n",
    "    eps=eps/2\n",
    "    \n",
    "    \n",
    "print([0.125000000004962, 0.12500000001845, 0.125000004997984, 0.12500000498936])"
   ]
  },
  {
   "cell_type": "markdown",
   "metadata": {},
   "source": [
    "# Question 2\n",
    "\n",
    "Use your SVM solver to compute the dual SVM solution for the XOR data using the kernel function $K(\\underline{x}, \\underline{x}) = (1 + \\underline{x}.\\underline{y})^2$. Solve the dual SVM by hand to check your work."
   ]
  },
  {
   "cell_type": "markdown",
   "metadata": {},
   "source": [
    "![alt text](manual_SVM_solution.png \"Title\")"
   ]
  },
  {
   "cell_type": "markdown",
   "metadata": {},
   "source": [
    "# Question 3\n",
    "\n",
    "Given the solution your SVM solver returns, reconstruct the primal classifier and show that it correctly classifies the XOR data."
   ]
  },
  {
   "cell_type": "markdown",
   "metadata": {},
   "source": [
    "Reconstructed the primal classifier using the SVM Solver solution and proved that it correctly classifies the XOR data."
   ]
  },
  {
   "cell_type": "code",
   "execution_count": 46,
   "metadata": {},
   "outputs": [
    {
     "data": {
      "text/plain": [
       "-0.999999980128201"
      ]
     },
     "execution_count": 46,
     "metadata": {},
     "output_type": "execute_result"
    }
   ],
   "source": [
    "solution = -1 - ((alpha2[i]+alpha4[i]-alpha3[i])*(-1)*(1-1-1)*2 +alpha2[i]*(1)*(1-1+1)*2 +alpha3[i]*(1)*(1+1-1)*2 + alpha4[i]*(-1)*(1+1+1)*2) \n",
    "solution"
   ]
  },
  {
   "cell_type": "code",
   "execution_count": 47,
   "metadata": {},
   "outputs": [
    {
     "name": "stdout",
     "output_type": "stream",
     "text": [
      "The final XOR outputs are:\n",
      "\n",
      "-1\n",
      "1\n",
      "1\n",
      "-1\n"
     ]
    }
   ],
   "source": [
    "def outut_xor(y1,y2):\n",
    "    w_x = (alpha2[i]+alpha4[i]-alpha3[i])*(-1)*(1-y1-y2)*2 +alpha2[i]*(1)*(1-y1+y2)*2 +alpha3[i]*(1)*(1+y1-y2)*2 + alpha4[i]*(-1)*(1+y1+y2)*2    \n",
    "    if(w_x < 0):\n",
    "        return -1\n",
    "    else:\n",
    "        return 1\n",
    "\n",
    "print(\"The final XOR outputs are:\\n\")\n",
    "print(outut_xor(1,1))\n",
    "print(outut_xor(1,-1))\n",
    "print(outut_xor(-1,-1))\n",
    "print(outut_xor(-1,1))"
   ]
  }
 ],
 "metadata": {
  "kernelspec": {
   "display_name": "Python 3",
   "language": "python",
   "name": "python3"
  },
  "language_info": {
   "codemirror_mode": {
    "name": "ipython",
    "version": 3
   },
   "file_extension": ".py",
   "mimetype": "text/x-python",
   "name": "python",
   "nbconvert_exporter": "python",
   "pygments_lexer": "ipython3",
   "version": "3.6.8"
  }
 },
 "nbformat": 4,
 "nbformat_minor": 2
}
