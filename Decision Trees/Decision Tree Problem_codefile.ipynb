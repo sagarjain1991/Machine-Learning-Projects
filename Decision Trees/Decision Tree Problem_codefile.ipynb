{
 "cells": [
  {
   "cell_type": "markdown",
   "metadata": {},
   "source": [
    "# CS 536 : Decision Trees Assignment\n",
    "by Sagar Jain (sj735)"
   ]
  },
  {
   "cell_type": "code",
   "execution_count": 1,
   "metadata": {},
   "outputs": [],
   "source": [
    "import numpy as np\n",
    "import pandas as pd\n",
    "from pprint import pprint\n",
    "import matplotlib.pyplot as plt\n",
    "plt.rcParams['figure.figsize'] = [15, 6]"
   ]
  },
  {
   "cell_type": "code",
   "execution_count": 2,
   "metadata": {},
   "outputs": [],
   "source": [
    "#Initializing global variables\n",
    "k = 4\n",
    "m = 8\n",
    "epsilon = 0.0000001"
   ]
  },
  {
   "cell_type": "markdown",
   "metadata": {},
   "source": [
    "# Answer 1\n",
    "\n",
    "For a given value of k;m, (number of features, number of data points), write a function to generate a training\n",
    "data set based on the above scheme."
   ]
  },
  {
   "cell_type": "markdown",
   "metadata": {},
   "source": [
    "Function to generate rows >>"
   ]
  },
  {
   "cell_type": "code",
   "execution_count": 3,
   "metadata": {},
   "outputs": [],
   "source": [
    "def vector_generation_function(k=0):\n",
    "        X = []\n",
    "        Y = 0\n",
    "        w_denom = sum([0.9**x for x in range(2,k+1)])\n",
    "\n",
    "        for x in range(1, k+1):\n",
    "            if x != 1:\n",
    "                prev_X = X[-1]\n",
    "                X.append(int(np.random.choice([prev_X, 1-prev_X], 1, p=[0.75, 0.25])))\n",
    "            else: # when x == 1\n",
    "                X.append(int(np.random.choice([1,0], 1, p=[0.5, 0.5])))\n",
    "\n",
    "        if sum([ ((0.9**n)/w_denom)*X[n-1] for n in range(2,k+1) ]) >= 1/2:\n",
    "            X.append(X[1])\n",
    "        else:\n",
    "            X.append(1 - X[1])\n",
    "\n",
    "        return X"
   ]
  },
  {
   "cell_type": "markdown",
   "metadata": {},
   "source": [
    "Function to generate dataset >>"
   ]
  },
  {
   "cell_type": "code",
   "execution_count": 4,
   "metadata": {},
   "outputs": [],
   "source": [
    "def dataframe_function(k=0, m=0):\n",
    "    \n",
    "    data = []\n",
    "    \n",
    "    for x in range(1, m+1):\n",
    "        data.append(vector_generation_function(k))\n",
    "        \n",
    "    #Create header list\n",
    "    headers = ['X'+str(x) for x in range(1,k+1)] + ['Y']\n",
    "    \n",
    "    dataframe = pd.DataFrame(data, columns=headers)\n",
    "        \n",
    "    return dataframe"
   ]
  },
  {
   "cell_type": "code",
   "execution_count": 5,
   "metadata": {},
   "outputs": [
    {
     "name": "stdout",
     "output_type": "stream",
     "text": [
      "   X1  X2  X3  X4  Y\n",
      "0   1   0   1   0  1\n",
      "1   1   1   1   0  1\n",
      "2   0   0   1   1  0\n",
      "3   0   0   0   0  1\n",
      "4   0   0   0   1  1\n",
      "5   0   0   1   1  0\n",
      "6   0   1   1   1  1\n",
      "7   1   1   1   1  1\n"
     ]
    }
   ],
   "source": [
    "#Generating data set\n",
    "dataframe = dataframe_function(4, 8)\n",
    "print(dataframe)"
   ]
  },
  {
   "cell_type": "markdown",
   "metadata": {},
   "source": [
    "Function to calculate Information Gain >>"
   ]
  },
  {
   "cell_type": "code",
   "execution_count": 6,
   "metadata": {},
   "outputs": [],
   "source": [
    " def information_gain(subset_dataframe):\n",
    "        \n",
    "        classes = list(subset_dataframe)\n",
    "        x0_y0 = len(subset_dataframe.loc[(subset_dataframe[classes[0]] == 0) & (subset_dataframe[classes[1]] == 0)])\n",
    "        \n",
    "        x0_y1 = len(subset_dataframe.loc[(subset_dataframe[classes[0]] == 0) & (subset_dataframe[classes[1]] == 1)])\n",
    "        \n",
    "        x1_y0 = len(subset_dataframe.loc[(subset_dataframe[classes[0]] == 1) & (subset_dataframe[classes[1]] == 0)])\n",
    "        \n",
    "        x1_y1 = len(subset_dataframe.loc[(subset_dataframe[classes[0]] == 1) & (subset_dataframe[classes[1]] == 1)])\n",
    "                \n",
    "        py0 = (x0_y0 + x1_y0) / (x0_y0 + x1_y0 + x0_y1 + x1_y1 + epsilon)\n",
    "        \n",
    "        py1 = (x0_y1 + x1_y1) / (x0_y0 + x1_y0 + x0_y1 + x1_y1 + epsilon)\n",
    "        \n",
    "        px0 = (x0_y0 + x0_y1) / (x0_y0 + x1_y0 + x0_y1 + x1_y1 + epsilon)\n",
    "        \n",
    "        px1 = (x1_y0 + x1_y1) / (x0_y0 + x1_y0 + x0_y1 + x1_y1 + epsilon)\n",
    "                \n",
    "        py0_x0 = x0_y0 / (x0_y0 + x0_y1 + epsilon)\n",
    "        \n",
    "        py1_x0 = x0_y1 / (x0_y0 + x0_y1 + epsilon)\n",
    "        \n",
    "        py0x1 = x1_y0 / (x1_y0 + x1_y1 + epsilon)\n",
    "        \n",
    "        py1x1 = x1_y1 / (x1_y0 + x1_y1 + epsilon)\n",
    "              \n",
    "        pyx0 = (-1 * py0_x0 * np.log(py0_x0 + epsilon)) + (-1 * py1_x0 * np.log(py1_x0 + epsilon))\n",
    "        \n",
    "        pyx1 = (-1 * py0x1 * np.log(py0x1 + epsilon)) + (-1 * py1x1 * np.log(py1x1 + epsilon))\n",
    "                \n",
    "        hy =  (-1 * py0 * np.log(py0 + epsilon)) + (-1 * py1 * np.log(py1 + epsilon))\n",
    "        hyx = (px1 * pyx1) + (px0 * pyx0)\n",
    "                \n",
    "        igx = hy - hyx\n",
    "                \n",
    "        return igx"
   ]
  },
  {
   "cell_type": "markdown",
   "metadata": {},
   "source": [
    "Function to split feature based on Information Gain >>"
   ]
  },
  {
   "cell_type": "code",
   "execution_count": 7,
   "metadata": {},
   "outputs": [],
   "source": [
    "#Splitting Variable function\n",
    "def splitting_variable(dataframe):\n",
    "    \"\"\"This function take a dataframe as input and returns apt splitting variable based on maximum information gain\"\"\"\n",
    "    \n",
    "    #Fetch information gain for every X\n",
    "    columns = list(dataframe)\n",
    "    ig = [information_gain(dataframe[[x, 'Y']]) for x in columns[:-1]]\n",
    "    split_on_variable = columns[np.argmax(ig)]\n",
    "    \n",
    "    return split_on_variable #splitting variable"
   ]
  },
  {
   "cell_type": "code",
   "execution_count": 49,
   "metadata": {},
   "outputs": [
    {
     "data": {
      "text/plain": [
       "'X1'"
      ]
     },
     "execution_count": 49,
     "metadata": {},
     "output_type": "execute_result"
    }
   ],
   "source": [
    "split_var = splitting_variable(dataframe)\n",
    "split_var"
   ]
  },
  {
   "cell_type": "markdown",
   "metadata": {},
   "source": [
    "# Answer 2\n",
    "\n",
    "Given a data set, write a function to \f",
    "t a decision tree to that data based on splitting the variables by maximizing\n",
    "the information gain. Additionally, return the training error of this tree on the data set, err_train(f)."
   ]
  },
  {
   "cell_type": "code",
   "execution_count": 34,
   "metadata": {},
   "outputs": [],
   "source": [
    "#generate decision tree\n",
    "def generate_decision_tree(dataframe, tree=None):\n",
    "    \n",
    "    #fetch the features X1, X2...Xn\n",
    "    classes = list(dataframe)[:-1]\n",
    "    \n",
    "    #get the node to split on\n",
    "    split_var = splitting_variable(dataframe)\n",
    "    \n",
    "    #initialize tree in form of dictionary if not already initialized\n",
    "    if tree is None:\n",
    "        tree = {}\n",
    "        tree[split_var] = {}\n",
    "    \n",
    "    #Explore when split_var is 0 & 1\n",
    "    for value in (0,1):\n",
    "        split_dataframe = dataframe[dataframe[split_var] == value]\n",
    "        class_value, value_count = np.unique(split_dataframe['Y'], return_counts=True)\n",
    "        \n",
    "        #check if split_dataframe has only single class to consider, if not then explore further\n",
    "        if len(value_count) == 1: \n",
    "            tree[split_var][value] = class_value[0]\n",
    "        else:\n",
    "            #recursively call the tree\n",
    "            tree[split_var][value] = generate_decision_tree(split_dataframe)\n",
    "            \n",
    "    #return the generated tree\n",
    "    return tree        "
   ]
  },
  {
   "cell_type": "code",
   "execution_count": 50,
   "metadata": {},
   "outputs": [
    {
     "name": "stdout",
     "output_type": "stream",
     "text": [
      "   X1  X2  X3  X4  X5  X6  X7  X8  X9  X10  Y\n",
      "0   1   1   1   0   0   0   1   1   1    1  1\n",
      "1   0   0   0   1   1   1   0   0   1    1  0\n",
      "2   0   0   0   0   0   0   0   0   1    0  1\n",
      "3   0   0   1   1   1   0   0   0   0    0  1\n",
      "4   0   0   0   0   0   0   0   1   1    1  1\n",
      "5   1   0   1   1   0   1   1   1   0    1  0\n",
      "6   0   0   0   0   1   1   1   1   1    1  0\n",
      "7   0   0   0   0   1   1   0   0   0    0  1\n",
      "{'X6': {0: 1, 1: {'X10': {0: 1, 1: 0}}}}\n"
     ]
    }
   ],
   "source": [
    "df = dataframe_function(k, 8)\n",
    "tree = generate_decision_tree(df)\n",
    "print(df)\n",
    "pprint(tree)"
   ]
  },
  {
   "cell_type": "code",
   "execution_count": 51,
   "metadata": {},
   "outputs": [],
   "source": [
    "#predict function using the decision tree\n",
    "def predict(X_dataframe, tree):\n",
    "    for value in tree.keys():\n",
    "        sub_tree = int(X_dataframe[value])\n",
    "        tree = tree[value][sub_tree]\n",
    "        \n",
    "        if type(tree) is not dict:\n",
    "            return tree\n",
    "        else:\n",
    "            return predict(X_dataframe, tree)"
   ]
  },
  {
   "cell_type": "code",
   "execution_count": 52,
   "metadata": {},
   "outputs": [
    {
     "name": "stdout",
     "output_type": "stream",
     "text": [
      "   X1  X2  X3  X4  X5  X6  X7  X8  X9  X10  Y\n",
      "0   1   1   1   1   1   1   1   0   0    1  1\n"
     ]
    },
    {
     "data": {
      "text/plain": [
       "0"
      ]
     },
     "execution_count": 52,
     "metadata": {},
     "output_type": "execute_result"
    }
   ],
   "source": [
    "X_df = dataframe_function(k, 1)\n",
    "print(X_df)\n",
    "predict(X_df, tree)"
   ]
  },
  {
   "cell_type": "code",
   "execution_count": 36,
   "metadata": {},
   "outputs": [],
   "source": [
    "#Create function for computing ERR_train\n",
    "def compute_ERR(dataframe, tree):\n",
    "    \n",
    "    err = 0\n",
    "    length = len(dataframe)\n",
    "    \n",
    "    for row_index in range(0, length):\n",
    "        row = dataframe[row_index: row_index+1]\n",
    "        \n",
    "        if int(row['Y']) != predict(row, tree):\n",
    "            err += 1\n",
    "            \n",
    "    return err/length"
   ]
  },
  {
   "cell_type": "markdown",
   "metadata": {},
   "source": [
    "# Answer 3\n",
    "\n",
    "For k = 4 and m = 30, generate data and \f",
    "t a decision tree to it. Does the ordering of the variables in the\n",
    "decision tree make sense, based on the function that de\f",
    "nes Y ? Why or why not? Draw the tree."
   ]
  },
  {
   "cell_type": "code",
   "execution_count": 56,
   "metadata": {},
   "outputs": [
    {
     "name": "stdout",
     "output_type": "stream",
     "text": [
      "Data Set:\n",
      "\n",
      "    X1  X2  X3  X4  Y\n",
      "0    1   1   1   1  1\n",
      "1    0   0   0   0  1\n",
      "2    0   0   1   1  0\n",
      "3    0   0   1   0  1\n",
      "4    1   0   0   1  1\n",
      "5    0   1   0   0  0\n",
      "6    0   0   0   1  1\n",
      "7    0   1   1   1  1\n",
      "8    0   0   0   0  1\n",
      "9    0   0   0   0  1\n",
      "10   0   0   0   0  1\n",
      "11   0   0   0   0  1\n",
      "12   0   1   1   1  1\n",
      "13   0   0   0   1  1\n",
      "14   0   0   0   0  1\n",
      "15   1   1   1   1  1\n",
      "16   1   0   0   0  1\n",
      "17   0   1   0   0  0\n",
      "18   1   1   1   1  1\n",
      "19   1   1   1   0  1\n",
      "20   0   0   1   0  1\n",
      "21   1   1   1   0  1\n",
      "22   0   0   0   0  1\n",
      "23   0   0   0   1  1\n",
      "24   0   0   1   1  0\n",
      "25   0   1   1   1  1\n",
      "26   0   0   1   1  0\n",
      "27   0   0   0   0  1\n",
      "28   0   1   0   0  0\n",
      "29   0   0   0   0  1 \n",
      "\n",
      "\n",
      "Decision Tree: \n",
      "\n",
      "{'X1': {0: {'X2': {0: {'X3': {0: 1, 1: {'X4': {0: 1, 1: 0}}}},\n",
      "                   1: {'X3': {0: 0, 1: 1}}}},\n",
      "        1: 1}}\n",
      "\n",
      "\n",
      "Train Error:\n",
      "0.0 \n",
      "\n"
     ]
    }
   ],
   "source": [
    "k = 4\n",
    "m = 30\n",
    "\n",
    "#Generate dataframe based on above parameters\n",
    "df = dataframe_function(k, m)\n",
    "print('Data Set:\\n')\n",
    "print(df,'\\n')\n",
    "\n",
    "#Fit decision tree\n",
    "tree = generate_decision_tree(df)\n",
    "print('\\nDecision Tree: \\n')\n",
    "pprint(tree)\n",
    "print('\\n')\n",
    "\n",
    "#Compute Training Error\n",
    "ERR_train = compute_ERR(df, tree)\n",
    "print('Train Error:')\n",
    "print(ERR_train,'\\n')"
   ]
  },
  {
   "cell_type": "markdown",
   "metadata": {},
   "source": [
    "Yes definitely, the order of the variables in the decision tree makes sense. We can justify this by checking the training error of generated decision tree which is 0.0 that means that the decision tree models our training data perfectly."
   ]
  },
  {
   "cell_type": "markdown",
   "metadata": {},
   "source": [
    "# Answer 4\n",
    "\n",
    "Write a function that takes a decision tree and estimates its typical error on this data err(f); i.e., generate a\n",
    "lot of data according to the above scheme, and \f",
    "nd the average error rate of this tree over that data."
   ]
  },
  {
   "cell_type": "code",
   "execution_count": 38,
   "metadata": {},
   "outputs": [
    {
     "name": "stdout",
     "output_type": "stream",
     "text": [
      "Data Set:\n",
      "\n",
      "   X1  X2  X3  X4  Y\n",
      "0   1   1   0   0  0\n",
      "1   1   1   0   0  0\n",
      "2   1   1   1   1  1\n",
      "3   1   0   0   1  1\n",
      "4   1   0   0   1  1\n",
      "5   0   0   1   0  1\n",
      "6   0   1   0   1  1\n",
      "7   0   0   0   0  1\n",
      "8   1   1   1   1  1\n",
      "9   0   1   1   1  1 \n",
      "\n",
      "Average Error:\n",
      "0.3 \n",
      "\n"
     ]
    }
   ],
   "source": [
    "k = 4\n",
    "m = 10\n",
    "\n",
    "#Generate dataframe based on above parameters\n",
    "df = dataframe_function(k, m)\n",
    "print('Data Set:\\n')\n",
    "print(df,'\\n')\n",
    "\n",
    "#Compute typical error on above created data and tree drawn above\n",
    "ERR = compute_ERR(df, tree)\n",
    "print('Average Error:')\n",
    "print(ERR,'\\n')"
   ]
  },
  {
   "cell_type": "markdown",
   "metadata": {},
   "source": [
    "# Answer 5\n",
    "\n",
    "For k = 10, estimate the value of |err_train(f) - err(f)| for a given m by repeatedly generating data sets, fitting\n",
    "trees to those data sets, and estimating the true and training error. Do this for multiple m, and graph this\n",
    "difference as a function of m. What can you say about the marginal value of additional training data?"
   ]
  },
  {
   "cell_type": "code",
   "execution_count": 79,
   "metadata": {},
   "outputs": [
    {
     "data": {
      "image/png": "[encoded data removed]",
      "text/plain": [
       "<Figure size 1080x432 with 1 Axes>"
      ]
     },
     "metadata": {},
     "output_type": "display_data"
    }
   ],
   "source": [
    "k = 10\n",
    "m = [8, 16, 32, 64, 128, 256, 512,1024]\n",
    "split_ratio = 0.75\n",
    "err_diff = {}\n",
    "\n",
    "for values in m:\n",
    "    df = dataframe_function(k, values)\n",
    "    train_df = df.iloc[:int(split_ratio*values)]\n",
    "    test_df = df.iloc[int(split_ratio*values):]\n",
    "    \n",
    "    tree = generate_decision_tree(train_df)\n",
    "    \n",
    "    ERR_train = compute_ERR(train_df, tree)\n",
    "    ERR = compute_ERR(test_df, tree)\n",
    "    \n",
    "    err_diff[values] = np.absolute(ERR_train - ERR)\n",
    "    \n",
    "err_list = sorted(err_diff.items())\n",
    "x,y = zip(*err_list)\n",
    "\n",
    "plt.plot(x,y)\n",
    "plt.title('Error Difference v/s values of m')\n",
    "plt.xlabel('m value')\n",
    "plt.ylabel('err')\n",
    "plt.show()"
   ]
  },
  {
   "cell_type": "markdown",
   "metadata": {},
   "source": [
    "the marginal value of additional training data?\n",
    "We can observe that on increasing the value of m, the error difference minimises contineously."
   ]
  },
  {
   "cell_type": "markdown",
   "metadata": {},
   "source": [
    "# Answer 6\n",
    "\n",
    "Design an alternative metric for splitting the data, not based on information content / information gain. Repeat\n",
    "the computation from (5) above for your metric, and compare the performance of your trees vs the ID3 trees."
   ]
  },
  {
   "cell_type": "markdown",
   "metadata": {},
   "source": [
    "Function to split feature based on Chi-Squared test >>\n",
    "\n",
    "Lets use Chi-Squared test to check the weight of dependence of feature variables with Y and split based on the most dependent feature first."
   ]
  },
  {
   "cell_type": "code",
   "execution_count": null,
   "metadata": {},
   "outputs": [],
   "source": [
    "#Splitting function based on Chi-Squared Test\n",
    "def chi_squared_function(subset_df):\n",
    "\n",
    "        classes = list(subset_df)\n",
    "        x0y0 = len(subset_df.loc[(subset_df[classes[0]] == 0) & (subset_df[classes[1]] == 0)])\n",
    "        \n",
    "        x0y1 = len(subset_df.loc[(subset_df[classes[0]] == 0) & (subset_df[classes[1]] == 1)])\n",
    "        \n",
    "        x1y0 = len(subset_df.loc[(subset_df[classes[0]] == 1) & (subset_df[classes[1]] == 0)])\n",
    "        \n",
    "        x1y1 = len(subset_df.loc[(subset_df[classes[0]] == 1) & (subset_df[classes[1]] == 1)])\n",
    "        \n",
    "        total_count = x0y0 + x0y1 + x1y0 + x1y1\n",
    "        \n",
    "        py0 = (x0y0 + x1y0) / (total_count + epsilon)\n",
    "        py1 = (x0y1 + x1y1) / (total_count + epsilon)\n",
    "        \n",
    "        px0 = (x0y0 + x0y1) / (total_count + epsilon)\n",
    "        px1 = (x1y0 + x1y1) / (total_count + epsilon)\n",
    "        \n",
    "        t_x0y0 = (((px0 * py0 * total_count) - x0y0) ** 2)/((px0 * py0 * total_count) + epsilon) \n",
    "        \n",
    "        t_x0y1 = (((px0 * py1 * total_count) - x0y1) ** 2)/((px0 * py1 * total_count) + epsilon)\n",
    "        \n",
    "        t_x1y0 = (((px1 * py0 * total_count) - x1y0) ** 2)/((px1 * py0 * total_count) + epsilon)\n",
    "        \n",
    "        t_x1y1 = (((px1 * py1 * total_count) - x1y1) ** 2)/((px1 * py1 * total_count) + epsilon)\n",
    "        \n",
    "        T = t_x0y0 + t_x0y1 + t_x1y0 + t_x1y1\n",
    "        \n",
    "        return T\n",
    "\n",
    "\n",
    "def chi_squared_split(dataframe):\n",
    "    \n",
    "     #Fetch information gain for every X\n",
    "    columns = list(dataframe)\n",
    "    chi = [chi_squared_function(dataframe[[x, 'Y']]) for x in columns[:-1]]\n",
    "\n",
    "    split_on_variable = columns[np.argmax(chi)]\n",
    "    \n",
    "    return split_on_variable #splitting variable"
   ]
  },
  {
   "cell_type": "code",
   "execution_count": 72,
   "metadata": {},
   "outputs": [],
   "source": [
    "#generate decision tree using chi-squared\n",
    "def decision_tree_chi_generation(dataframe, tree=None):\n",
    "    \n",
    "    #fetch the features X1, X2...Xn\n",
    "    classes = list(dataframe)[:-1]\n",
    "    \n",
    "    #get the node to split on\n",
    "    split_var = chi_squared_split(dataframe)\n",
    "    \n",
    "    #initialize tree in form of dictionary if not already initialized\n",
    "    if tree is None:\n",
    "        tree = {}\n",
    "        tree[split_var] = {}\n",
    "    \n",
    "    #Explore when split_var is 0 & 1\n",
    "    for value in (0,1):\n",
    "        split_dataframe = dataframe[dataframe[split_var] == value]\n",
    "        class_value, value_count = np.unique(split_dataframe['Y'], return_counts=True)\n",
    "        \n",
    "        #check if split_dataframe has only single class to consider, if not then explore further\n",
    "        if len(value_count) == 1: \n",
    "            tree[split_var][value] = class_value[0]\n",
    "        else:\n",
    "            #recursively call the tree\n",
    "            tree[split_var][value] = decision_tree_chi_generation(split_dataframe)\n",
    "            \n",
    "    #return the generated tree\n",
    "    return tree        "
   ]
  },
  {
   "cell_type": "code",
   "execution_count": 80,
   "metadata": {},
   "outputs": [
    {
     "data": {
      "image/png": "[encoded data removed]",
      "text/plain": [
       "<Figure size 1080x432 with 1 Axes>"
      ]
     },
     "metadata": {},
     "output_type": "display_data"
    }
   ],
   "source": [
    "#Question 6\n",
    "k = 10\n",
    "m = [8, 16, 32, 64, 128, 256, 512,1024]\n",
    "split_ratio = 0.75\n",
    "err_diff = {}\n",
    "\n",
    "for values in m:\n",
    "    df = dataframe_function(k, values)\n",
    "    train_df = df.iloc[:int(split_ratio*values)]\n",
    "    test_df = df.iloc[int(split_ratio*values):]\n",
    "    \n",
    "    tree = decision_tree_chi_generation(train_df)\n",
    "    \n",
    "    ERR_train = compute_ERR(train_df, tree)\n",
    "    ERR = compute_ERR(test_df, tree)\n",
    "    \n",
    "    err_diff[values] = np.absolute(ERR_train - ERR)\n",
    "    \n",
    "err_list = sorted(err_diff.items())\n",
    "x,y = zip(*err_list)\n",
    "\n",
    "plt.plot(x,y)\n",
    "plt.title('Error Difference v/s values of m')\n",
    "plt.xlabel('m value')\n",
    "plt.ylabel('err')\n",
    "plt.show()"
   ]
  },
  {
   "cell_type": "markdown",
   "metadata": {
    "collapsed": true
   },
   "source": [
    "# Comparing the performance of generated trees vs the ID3 trees."
   ]
  },
  {
   "cell_type": "markdown",
   "metadata": {},
   "source": [
    "On the basis of graph, we can make an observation that chi square performed better than the trivial decision tree method for high value of m."
   ]
  }
 ],
 "metadata": {
  "kernelspec": {
   "display_name": "Python 3",
   "language": "python",
   "name": "python3"
  },
  "language_info": {
   "codemirror_mode": {
    "name": "ipython",
    "version": 3
   },
   "file_extension": ".py",
   "mimetype": "text/x-python",
   "name": "python",
   "nbconvert_exporter": "python",
   "pygments_lexer": "ipython3",
   "version": "3.6.8"
  }
 },
 "nbformat": 4,
 "nbformat_minor": 2
}
