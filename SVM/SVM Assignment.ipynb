{
 "cells": [
  {
   "cell_type": "markdown",
   "metadata": {},
   "source": [
    "# Question 1\n",
    "\n",
    "Suppose you had a data set in two dimensions that satisfied the following: the positive class all lay within a\n",
    "certain radius of a point, the negative class all lay outside that radius.\n",
    "\n",
    "- Show that under the feature map $ \\phi(x_1, x_2) = (1, x_1, x_2, x_1x_2, x_1^2, x_2^2)$ (or equivalently, with the kernel\n",
    "$K(\\underline x, \\underline y) = (1+\\underline x. \\underline y)^2)$, a linear separator can always be found in this embedded space, regardless of radius\n",
    "and where the data is centered.\n",
    "\n",
    "- In fact show that if there is an ellipsoidal separator, regardless of center, width, orientation (and dimension!), a separator can be found in the quadratic feature space using this kernel."
   ]
  },
  {
   "cell_type": "markdown",
   "metadata": {},
   "source": [
    "# Answer\n",
    "\n",
    "The data space looks like this, as seen in the figure below: the positive class all lay within a certain radius of a point, the negative class all lay outside that radius.\n",
    "\n",
    "![title](img1.png)"
   ]
  },
  {
   "cell_type": "markdown",
   "metadata": {},
   "source": [
    "To solve this problem, let us consider a circle \n",
    "     $$x_1^2 + x_2^2 = r^2$$ \n",
    "Which can also be written as \n",
    "     $$0 = x_1^2 + x_2^2 - r^2$$ \n",
    "     \n",
    "So, if we evaluate the position of $x_1$ and $x_2$ which satisfies the equation of circle we see that the points lie on the circumference of the circle. On modifying the equation and considering a variable T in following fashion \n",
    "     $$T = x_1^2 + x_2^2 - r^2$$\n",
    "     \n",
    "we can say if the value of $T < 0$ for any value of $x_1,x_2$ then that point is present inside the cirle and if $T > 0$ then the point lie outside the circle.\n",
    "\n",
    "Hence, we can conclue that as long as we have quadratic terms in feature space we can always come up with a linear separator of the above form $T$ which will gives us a linear separator.\n",
    "\n",
    "Using the above analogy we say that our feature space will consist of quadrative factors. Hence,\n",
    "\n",
    "$$ \\phi(x_1, x_2) = (1, x_1, x_2, x_1x_2, x_2^1, x_2^2)$$\n",
    "\n",
    "or the kernel\n",
    "\n",
    "$$K(x, y) = (1 + (x, y)^2)$$\n",
    "    \n",
    "i.e,\n",
    "\n",
    "$$\\phi(x).\\phi(a) = (1 + \\underline x.\\underline a)^2$$\n",
    "\n",
    "Now suppose the center of the distribution is shifted then we can form our equation of %T% in the following fashion so as to fit our data. \n",
    "\n",
    "$$T = (x_1 - a)^2 + (x2 - b)^2 - r^2$$\n",
    "\n",
    "So, if the value of $T < 0$ for any value of $x_1,x_2$ then that point is present inside the cirle and if $T > 0$ then the point lie outside the circle. As long as our feature space consists of features in quadratic form (with heighest degree 2) we can use them to find a linear seperator for the data in above form using $K(\\underline x, \\underline y) = (1 + \\underline x.\\underline y)^2$"
   ]
  },
  {
   "cell_type": "markdown",
   "metadata": {},
   "source": [
    "For that above data space we can say that if there is an ellipsoid of some radius as shown below\n",
    "\n",
    "$$\\frac{x_1^2}{a^2} + \\frac{x_2^2}{a^2} + \\frac{x_3^2}{a^2} = 1$$\n",
    "\n",
    "We see that using the above analogy that:\n",
    "\n",
    "- For a point which is contained within the ellipsoid, has the distance of the point to the center of the ellipsoid is less than the ellipsoids radius $a$ then we classify it as +ve.\n",
    "- For a point which is outside the ellipsoid, its distance to the center would be greater than the radius $a$ of the ellipsoid, we calssify it as -ve.\n",
    "\n",
    "If the ellipsoid is moved around in the feature space, the above rule will still follow as the location is respective to the center of the ellipsoid and not the $(0,0)$ of the coordinate axis."
   ]
  },
  {
   "cell_type": "markdown",
   "metadata": {},
   "source": [
    "![title](img4.png)"
   ]
  },
  {
   "cell_type": "markdown",
   "metadata": {},
   "source": [
    "# Question 2\n",
    "\n",
    "As an extension of the previous problem, suppose that the two dimensional data set satisfied the following: the positive class lay within one of two (disjoint) ellipsoidal regions, and the negative class was everywhere else. Argue that the kernel \n",
    "\n",
    "$$K(\\underline x, \\underline y) = (1 + \\underline x.\\underline y)^4$$\n",
    "\n",
    "will recover a separator."
   ]
  },
  {
   "cell_type": "markdown",
   "metadata": {},
   "source": [
    "# Answer\n",
    "\n",
    "The data space looks like this, as seen in the figure below: the positive class lay within one of two (disjoint) ellipsoidal regions, and the negative class was everywhere else.\n",
    "\n",
    "![title](img2.png)"
   ]
  },
  {
   "cell_type": "markdown",
   "metadata": {},
   "source": [
    "Our problem space is similar to the one in previous question, but in this space we have two circle which we need to consider. Suppose we have following equation of both the circles below:\n",
    "\n",
    "$$ (x_1 - a_1) + (x_2 - b_1) = r_1^2$$\n",
    "\n",
    "$$ (x_3 - a_2) + (x_4 - b_2) = r_2^2$$\n",
    "\n",
    "Using the above equations we come up with the equation of $T_1$ and $T_2$ in the follwing form:\n",
    "\n",
    "$$T_1 = (x_1 - a_1) + (x_2 - b_1) - r_1^2$$\n",
    "\n",
    "$$T_2 = (x_3 - a_2) + (x_4 - b_2) - r_2^2$$"
   ]
  },
  {
   "cell_type": "markdown",
   "metadata": {},
   "source": [
    "So, if the value of $T_1 < 0$ or $T_2 < 0$  for any value of  $x_1,x_2$  then that point is present inside the cirle and if  $T_1 > 0$ or $T_2 > 0$  then the point lie outside the circle. \n",
    "\n",
    "Lets combine $T_1$ and $T_2$ as \n",
    "\n",
    "$$T = sign(-T_1.T_2)$$\n",
    "\n",
    "By doing this we see that, \n",
    "- If the value of $T > 0$ then the point is present in either circle.\n",
    "- If the value of $T < 0$ then the point is present outside both circle.\n",
    "\n",
    "Hence product of $-T1 * T2$ will result in a quartic term (A Polynomial with highest degree term 4) which will recover the linear separator, and can be solved using the kernel of form $K(\\underline x, \\underline y) = (1 + \\underline x.\\underline y)^4$"
   ]
  },
  {
   "cell_type": "markdown",
   "metadata": {},
   "source": [
    "# Question 3\n",
    "\n",
    "Suppose that the two dimensional data set is distributed like the following: the positive class lays in a circle centered at some point, the negative class lies in a circular band surrounding it of some radius, and then additional positive points lie outside that radius. Argue that the kernel $K(\\underline x, \\underline y) = (1 + \\underline x.\\underline y)^4$ will recover a separator."
   ]
  },
  {
   "cell_type": "markdown",
   "metadata": {},
   "source": [
    "# Answer\n",
    "\n",
    "The data space looks like this, as seen in the figure below: the positive class lays in a circle centered at some point, the negative class lies in a circular band surrounding it of some radius, and then additional positive points lie outside that radius.\n",
    "\n",
    "![title](img3.png)"
   ]
  },
  {
   "cell_type": "markdown",
   "metadata": {},
   "source": [
    "There are two circles to consider in this problem as well. So we can form the equations of $T_1$ and $T_2$ as formed above.\n",
    "\n",
    "$$T_1 = (x_1 - a_1) + (x_2 - b_1) - r_1^2$$\n",
    "\n",
    "$$T_2 = (x_3 - a_2) + (x_4 - b_2) - r_2^2$$\n",
    "\n",
    "We see that,\n",
    "- If the value is within the inner circle then $T_1 < 0$ and $T_2 < 0$.\n",
    "- If the value is outside both circle then $T_1 > 0$ and $T_2 > 0$.\n",
    "- If the value is contained within both circles then $T_1 > 0$ and $T_2 < 0$.\n",
    "\n",
    "So to get the linear classifier for this we can use $T = sign(T_1.T_2)$\n",
    "Then,\n",
    "- If the value is +ve then its within the inner circle or outside the outer circle then $T > 0$\n",
    "- If the value is -ve then its contained within both circles then $T < 0$.\n",
    "\n",
    "Hence product of  T1∗T2  will result in a quartic term (A Polynomial with highest degree term 4) which will recover the linear separator, and can be solved using the kernel of form $K(\\underline x, \\underline y) = (1 + \\underline x.\\underline y)^4$"
   ]
  },
  {
   "cell_type": "markdown",
   "metadata": {},
   "source": [
    "# Question 4\n",
    "\n",
    "Consider the XOR data (located at $(\\underline +1, \\underline +1)$). Express the dual SVM problem and show that a separator can be found using\n",
    "- $K(\\underline x, \\underline y) = (1 + \\underline x.\\underline y)^2$\n",
    "- $K(\\underline x, \\underline y) = exp(-|| \\underline x - \\underline y||^2)$\n",
    "\n",
    "For each, determine the regions of (x1, x2) space where points will be classified as positive or negative. Given that each produces a distinct separator, how might you decide which of the two was preferred?"
   ]
  },
  {
   "attachments": {},
   "cell_type": "markdown",
   "metadata": {},
   "source": [
    "# Answer\n",
    "\n",
    "The data space of XOR looks like:\n",
    "\n",
    "$$\\begin{eqnarray}\n",
    "A : (-1, +1)= +1\\\\\n",
    "B : (-1, -1) = -1\\\\\n",
    "C : (+1, -1) =  +1\\\\\n",
    "D : (+1, +1) = -1\\\\\n",
    "\\end{eqnarray}$$\n",
    "\n",
    "![title](img5.png)"
   ]
  },
  {
   "cell_type": "markdown",
   "metadata": {},
   "source": [
    "The dual SVM problem can be expressed as, \n",
    "\n",
    "\n",
    "\\begin{align}\n",
    "W(\\alpha) & = \\sum_i \\alpha_i - \\frac{1}{2} \\sum_{i,j} y_i y_j \\alpha_i \\alpha_j \\phi(x_i) \\cdot \\phi(x_j) \\\\\n",
    "& = \\sum_i \\alpha_i - \\frac{1}{2} \\sum_{i,j} y_i y_j \\alpha_i \\alpha_j K(x_i,x_j).\n",
    "\\end{align}\n",
    "Which is optimized as\n",
    "\\begin{align}\n",
    "\\hat{\\alpha} = \\arg \\max_\\alpha W(\\alpha), \\\\\n",
    "\\text{such that} \\quad \\alpha_i \\ge 0.\n",
    "\\end{align}\n",
    "\n",
    "Here $K(x_i,x_j)$ is the kernel function."
   ]
  },
  {
   "cell_type": "markdown",
   "metadata": {},
   "source": [
    "Now, when using the Polynomial Kernel given below,\n",
    "\n",
    "$K(\\underline x, \\underline y) = (1 + \\underline x.\\underline y)^2$\n",
    "\n",
    "We can correctly classify our data space with $T = sign(-x_1.x_2)$, such that\n",
    "\n",
    "- $A = -(-1)(+1) = +1$\n",
    "- $B = -(-1)(-1) = -1$\n",
    "- $C = -(+1)(-1) = +1$\n",
    "- $D = -(+1)(+1) = -1$\n",
    "\n",
    "Thus we can see that as $T$ is a quadratic equation (highest power 2), our data can be classified in $\\phi(x_1, x_2) = (1, x_1, x_2, x_1.x_2, x_1^2, x_2^2)$ feature space. We can also see this in the image below:\n",
    "\n",
    "![title](img6.png)"
   ]
  },
  {
   "cell_type": "markdown",
   "metadata": {},
   "source": [
    "Now we consider the RBF Kernal to solve our problem,\n",
    "\n",
    "$$K(\\underline x, \\underline y) = exp(-|| \\underline x - \\underline y||^2)$$\n",
    "\n",
    "The RBF kernel classifies the problem\n",
    "\n",
    "To perform the XOR classification in an RBF network, we must check how many functions we need. Given there are four training patterns and two classes, 2 equations seems a reasonable. Then the basis function centres need to be chosen. \n",
    "The two separated zero targets seem a good random choice, so μ1 = (0, 0) and μ2 = (1,1) and the distance between them is dmax = √2. That gives the basis functions:\n",
    "\n",
    "$$φ_1(x) = exp(-|| x - μ_1||^2)$$ \n",
    "where $μ_1 = (0,0)$\n",
    "\n",
    "$$φ_2(x) = exp(-|| x - μ_2||^2)$$ \n",
    "where $μ_2 = (1,1)$\n",
    "\n",
    "Since the hidden unit activation space is only two dimensional, it is easy to plot the activations to see how the four input patterns have been transformed:\n",
    "\n",
    "![title](img8.png)\n",
    "\n",
    "By plotting the data in the table above we can see that its seperable by a line in 2-Dimensional space.\n",
    "\n",
    "This is sufficient to transform the problem into a linearly separable form, as shown below in the figure."
   ]
  },
  {
   "cell_type": "markdown",
   "metadata": {},
   "source": [
    "![title](img7.png)"
   ]
  }
 ],
 "metadata": {
  "kernelspec": {
   "display_name": "Python 3",
   "language": "python",
   "name": "python3"
  },
  "language_info": {
   "codemirror_mode": {
    "name": "ipython",
    "version": 3
   },
   "file_extension": ".py",
   "mimetype": "text/x-python",
   "name": "python",
   "nbconvert_exporter": "python",
   "pygments_lexer": "ipython3",
   "version": "3.6.6"
  }
 },
 "nbformat": 4,
 "nbformat_minor": 2
}
